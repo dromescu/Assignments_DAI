{
 "cells": [
  {
   "cell_type": "markdown",
   "metadata": {},
   "source": [
    "# K-means cluster analysis - Assignment Week 4"
   ]
  },
  {
   "cell_type": "markdown",
   "metadata": {},
   "source": [
    "To do's: This week’s assignment involves running a k-means cluster analysis. Cluster analysis is an unsupervised machine learning method that partitions the observations in a data set into a smaller set of clusters where each observation belongs to only one cluster. The goal of cluster analysis is to group, or cluster, observations into subsets based on their similarity of responses on multiple variables. Clustering variables should be primarily quantitative variables, but binary variables may also be included.\n",
    "\n",
    "Your assignment is to run a k-means cluster analysis to identify subgroups of observations in your data set that have similar patterns of response on a set of clustering variables."
   ]
  },
  {
   "cell_type": "markdown",
   "metadata": {},
   "source": [
    "A k-means cluster analysis performed with the Gapminder dataset was conducted to identify subgroups of countries based on their similarity of responses on 5 variables that represent characteristics that could have an impact on breast cancer incidence. Clustering variables in this case are all quantitative, measuring the consumption of alcohol, CO2 emissions, female employment rate, income per person and life expectancy.\n",
    "All clustering variables were standardized to have a mean of 0 and a standard deviation of 1. \n",
    "Data were not split into training and test set since there is a relatively small number of observations (214 countries).\n",
    "A series of k-means cluster analyses were conducted on the data specifying k=1-9 clusters, using Euclidean distance. The variance in the clustering variables that was accounted for by the clusters (r-square) was plotted for each of the nine cluster solutions in an elbow curve to provide guidance for choosing the number of clusters to interpret. "
   ]
  },
  {
   "cell_type": "code",
   "execution_count": 34,
   "metadata": {
    "collapsed": true
   },
   "outputs": [],
   "source": [
    "%matplotlib inline\n",
    "from pandas import Series, DataFrame\n",
    "import pandas as pd\n",
    "import numpy as np\n",
    "import matplotlib.pylab as plt\n",
    "from sklearn.model_selection import train_test_split"
   ]
  },
  {
   "cell_type": "code",
   "execution_count": 35,
   "metadata": {
    "collapsed": true
   },
   "outputs": [],
   "source": [
    "from sklearn import preprocessing\n",
    "from scipy.spatial.distance import cdist\n",
    "from sklearn.decomposition import PCA\n",
    "\n",
    "import statsmodels.formula.api as smf\n",
    "import statsmodels.stats.multicomp as multi "
   ]
  },
  {
   "cell_type": "markdown",
   "metadata": {},
   "source": [
    "## Build model on training data\n"
   ]
  },
  {
   "cell_type": "code",
   "execution_count": 36,
   "metadata": {
    "collapsed": true
   },
   "outputs": [],
   "source": [
    "from sklearn.cluster import KMeans"
   ]
  },
  {
   "cell_type": "markdown",
   "metadata": {},
   "source": [
    "## Data Management: Loading the GapMinder dataset "
   ]
  },
  {
   "cell_type": "code",
   "execution_count": 37,
   "metadata": {
    "collapsed": true
   },
   "outputs": [],
   "source": [
    "def primary_clean(df, nan_subset = []):\n",
    "    df = df.rename(columns=lambda x: x.strip()) #remove whitespaces from headers\n",
    "    #delete all column with just NaN\n",
    "    df = df.dropna(axis=1, how='all')\n",
    "    #drop duplicates\n",
    "    df = df.drop_duplicates()\n",
    "    #drop compliance = NaN\n",
    "    df = df.dropna(subset=nan_subset)\n",
    "    #convert to numeric our objects\n",
    "    df[nan_subset] = df[nan_subset].apply(pd.to_numeric, errors='coerce')\n",
    "    return df"
   ]
  },
  {
   "cell_type": "code",
   "execution_count": 38,
   "metadata": {
    "collapsed": true
   },
   "outputs": [],
   "source": [
    "df = pd.read_csv('gapminder.csv')"
   ]
  },
  {
   "cell_type": "markdown",
   "metadata": {},
   "source": [
    "## Set my Variables"
   ]
  },
  {
   "cell_type": "code",
   "execution_count": 39,
   "metadata": {
    "collapsed": true
   },
   "outputs": [],
   "source": [
    "#features to be convert to numeric\n",
    "variables = ['alcconsumption',  'co2emissions', 'femaleemployrate',\n",
    "              'incomeperperson', 'lifeexpectancy', 'polityscore', 'urbanrate'] #\n",
    "other = ['breastcancerper100th']"
   ]
  },
  {
   "cell_type": "code",
   "execution_count": 40,
   "metadata": {},
   "outputs": [],
   "source": [
    "other.extend(variables)\n",
    "dfgm = primary_clean(df, other)"
   ]
  },
  {
   "cell_type": "code",
   "execution_count": 41,
   "metadata": {},
   "outputs": [],
   "source": [
    "data_clean = dfgm.dropna()"
   ]
  },
  {
   "cell_type": "markdown",
   "metadata": {},
   "source": [
    "## Subset clustering variables"
   ]
  },
  {
   "cell_type": "code",
   "execution_count": 42,
   "metadata": {},
   "outputs": [
    {
     "data": {
      "text/html": [
       "<div>\n",
       "<table border=\"1\" class=\"dataframe\">\n",
       "  <thead>\n",
       "    <tr style=\"text-align: right;\">\n",
       "      <th></th>\n",
       "      <th>alcconsumption</th>\n",
       "      <th>co2emissions</th>\n",
       "      <th>femaleemployrate</th>\n",
       "      <th>incomeperperson</th>\n",
       "      <th>lifeexpectancy</th>\n",
       "      <th>polityscore</th>\n",
       "      <th>urbanrate</th>\n",
       "    </tr>\n",
       "  </thead>\n",
       "  <tbody>\n",
       "    <tr>\n",
       "      <th>count</th>\n",
       "      <td>149.000000</td>\n",
       "      <td>1.490000e+02</td>\n",
       "      <td>149.000000</td>\n",
       "      <td>149.000000</td>\n",
       "      <td>149.000000</td>\n",
       "      <td>149.000000</td>\n",
       "      <td>149.000000</td>\n",
       "    </tr>\n",
       "    <tr>\n",
       "      <th>mean</th>\n",
       "      <td>6.864698</td>\n",
       "      <td>6.645584e+09</td>\n",
       "      <td>47.995973</td>\n",
       "      <td>6765.439841</td>\n",
       "      <td>68.964758</td>\n",
       "      <td>3.771812</td>\n",
       "      <td>55.544966</td>\n",
       "    </tr>\n",
       "    <tr>\n",
       "      <th>std</th>\n",
       "      <td>5.129932</td>\n",
       "      <td>2.966560e+10</td>\n",
       "      <td>14.964263</td>\n",
       "      <td>9890.773248</td>\n",
       "      <td>9.952365</td>\n",
       "      <td>6.273196</td>\n",
       "      <td>22.182150</td>\n",
       "    </tr>\n",
       "    <tr>\n",
       "      <th>min</th>\n",
       "      <td>0.050000</td>\n",
       "      <td>2.368667e+06</td>\n",
       "      <td>12.400000</td>\n",
       "      <td>103.775857</td>\n",
       "      <td>47.794000</td>\n",
       "      <td>-10.000000</td>\n",
       "      <td>10.400000</td>\n",
       "    </tr>\n",
       "    <tr>\n",
       "      <th>25%</th>\n",
       "      <td>2.560000</td>\n",
       "      <td>8.833733e+07</td>\n",
       "      <td>39.400002</td>\n",
       "      <td>591.067944</td>\n",
       "      <td>62.095000</td>\n",
       "      <td>-2.000000</td>\n",
       "      <td>36.840000</td>\n",
       "    </tr>\n",
       "    <tr>\n",
       "      <th>50%</th>\n",
       "      <td>6.080000</td>\n",
       "      <td>3.773037e+08</td>\n",
       "      <td>48.400002</td>\n",
       "      <td>2230.676374</td>\n",
       "      <td>72.640000</td>\n",
       "      <td>6.000000</td>\n",
       "      <td>57.280000</td>\n",
       "    </tr>\n",
       "    <tr>\n",
       "      <th>75%</th>\n",
       "      <td>10.080000</td>\n",
       "      <td>2.484926e+09</td>\n",
       "      <td>56.200001</td>\n",
       "      <td>6746.612632</td>\n",
       "      <td>76.126000</td>\n",
       "      <td>9.000000</td>\n",
       "      <td>71.620000</td>\n",
       "    </tr>\n",
       "    <tr>\n",
       "      <th>max</th>\n",
       "      <td>23.010000</td>\n",
       "      <td>3.342209e+11</td>\n",
       "      <td>83.300003</td>\n",
       "      <td>39972.352768</td>\n",
       "      <td>83.394000</td>\n",
       "      <td>10.000000</td>\n",
       "      <td>100.000000</td>\n",
       "    </tr>\n",
       "  </tbody>\n",
       "</table>\n",
       "</div>"
      ],
      "text/plain": [
       "       alcconsumption  co2emissions  femaleemployrate  incomeperperson  \\\n",
       "count      149.000000  1.490000e+02        149.000000       149.000000   \n",
       "mean         6.864698  6.645584e+09         47.995973      6765.439841   \n",
       "std          5.129932  2.966560e+10         14.964263      9890.773248   \n",
       "min          0.050000  2.368667e+06         12.400000       103.775857   \n",
       "25%          2.560000  8.833733e+07         39.400002       591.067944   \n",
       "50%          6.080000  3.773037e+08         48.400002      2230.676374   \n",
       "75%         10.080000  2.484926e+09         56.200001      6746.612632   \n",
       "max         23.010000  3.342209e+11         83.300003     39972.352768   \n",
       "\n",
       "       lifeexpectancy  polityscore   urbanrate  \n",
       "count      149.000000   149.000000  149.000000  \n",
       "mean        68.964758     3.771812   55.544966  \n",
       "std          9.952365     6.273196   22.182150  \n",
       "min         47.794000   -10.000000   10.400000  \n",
       "25%         62.095000    -2.000000   36.840000  \n",
       "50%         72.640000     6.000000   57.280000  \n",
       "75%         76.126000     9.000000   71.620000  \n",
       "max         83.394000    10.000000  100.000000  "
      ]
     },
     "execution_count": 42,
     "metadata": {},
     "output_type": "execute_result"
    }
   ],
   "source": [
    "dfcluster = data_clean[variables]\n",
    "dfcluster.describe()"
   ]
  },
  {
   "cell_type": "code",
   "execution_count": 43,
   "metadata": {
    "collapsed": true
   },
   "outputs": [],
   "source": [
    "cluster_clean = dfcluster.dropna()"
   ]
  },
  {
   "cell_type": "code",
   "execution_count": 44,
   "metadata": {},
   "outputs": [
    {
     "data": {
      "text/html": [
       "<div>\n",
       "<table border=\"1\" class=\"dataframe\">\n",
       "  <thead>\n",
       "    <tr style=\"text-align: right;\">\n",
       "      <th></th>\n",
       "      <th>alcconsumption</th>\n",
       "      <th>co2emissions</th>\n",
       "      <th>femaleemployrate</th>\n",
       "      <th>incomeperperson</th>\n",
       "      <th>lifeexpectancy</th>\n",
       "      <th>polityscore</th>\n",
       "      <th>urbanrate</th>\n",
       "    </tr>\n",
       "  </thead>\n",
       "  <tbody>\n",
       "    <tr>\n",
       "      <th>count</th>\n",
       "      <td>1.490000e+02</td>\n",
       "      <td>1.490000e+02</td>\n",
       "      <td>1.490000e+02</td>\n",
       "      <td>1.490000e+02</td>\n",
       "      <td>1.490000e+02</td>\n",
       "      <td>1.490000e+02</td>\n",
       "      <td>1.490000e+02</td>\n",
       "    </tr>\n",
       "    <tr>\n",
       "      <th>mean</th>\n",
       "      <td>-1.490232e-17</td>\n",
       "      <td>2.682418e-17</td>\n",
       "      <td>2.041618e-16</td>\n",
       "      <td>-9.164928e-17</td>\n",
       "      <td>-1.043163e-16</td>\n",
       "      <td>-2.384372e-17</td>\n",
       "      <td>-2.682418e-16</td>\n",
       "    </tr>\n",
       "    <tr>\n",
       "      <th>std</th>\n",
       "      <td>1.003373e+00</td>\n",
       "      <td>1.003373e+00</td>\n",
       "      <td>1.003373e+00</td>\n",
       "      <td>1.003373e+00</td>\n",
       "      <td>1.003373e+00</td>\n",
       "      <td>1.003373e+00</td>\n",
       "      <td>1.003373e+00</td>\n",
       "    </tr>\n",
       "    <tr>\n",
       "      <th>min</th>\n",
       "      <td>-1.332899e+00</td>\n",
       "      <td>-2.246919e-01</td>\n",
       "      <td>-2.386755e+00</td>\n",
       "      <td>-6.757947e-01</td>\n",
       "      <td>-2.134383e+00</td>\n",
       "      <td>-2.202747e+00</td>\n",
       "      <td>-2.042058e+00</td>\n",
       "    </tr>\n",
       "    <tr>\n",
       "      <th>25%</th>\n",
       "      <td>-8.419636e-01</td>\n",
       "      <td>-2.217842e-01</td>\n",
       "      <td>-5.763707e-01</td>\n",
       "      <td>-6.263612e-01</td>\n",
       "      <td>-6.925920e-01</td>\n",
       "      <td>-9.231784e-01</td>\n",
       "      <td>-8.460881e-01</td>\n",
       "    </tr>\n",
       "    <tr>\n",
       "      <th>50%</th>\n",
       "      <td>-1.534805e-01</td>\n",
       "      <td>-2.120106e-01</td>\n",
       "      <td>2.709062e-02</td>\n",
       "      <td>-4.600305e-01</td>\n",
       "      <td>3.705287e-01</td>\n",
       "      <td>3.563898e-01</td>\n",
       "      <td>7.848136e-02</td>\n",
       "    </tr>\n",
       "    <tr>\n",
       "      <th>75%</th>\n",
       "      <td>6.288867e-01</td>\n",
       "      <td>-1.407250e-01</td>\n",
       "      <td>5.500904e-01</td>\n",
       "      <td>-1.909932e-03</td>\n",
       "      <td>7.219786e-01</td>\n",
       "      <td>8.362279e-01</td>\n",
       "      <td>7.271274e-01</td>\n",
       "    </tr>\n",
       "    <tr>\n",
       "      <th>max</th>\n",
       "      <td>3.157889e+00</td>\n",
       "      <td>1.107950e+01</td>\n",
       "      <td>2.367180e+00</td>\n",
       "      <td>3.368686e+00</td>\n",
       "      <td>1.454720e+00</td>\n",
       "      <td>9.961739e-01</td>\n",
       "      <td>2.010850e+00</td>\n",
       "    </tr>\n",
       "  </tbody>\n",
       "</table>\n",
       "</div>"
      ],
      "text/plain": [
       "       alcconsumption  co2emissions  femaleemployrate  incomeperperson  \\\n",
       "count    1.490000e+02  1.490000e+02      1.490000e+02     1.490000e+02   \n",
       "mean    -1.490232e-17  2.682418e-17      2.041618e-16    -9.164928e-17   \n",
       "std      1.003373e+00  1.003373e+00      1.003373e+00     1.003373e+00   \n",
       "min     -1.332899e+00 -2.246919e-01     -2.386755e+00    -6.757947e-01   \n",
       "25%     -8.419636e-01 -2.217842e-01     -5.763707e-01    -6.263612e-01   \n",
       "50%     -1.534805e-01 -2.120106e-01      2.709062e-02    -4.600305e-01   \n",
       "75%      6.288867e-01 -1.407250e-01      5.500904e-01    -1.909932e-03   \n",
       "max      3.157889e+00  1.107950e+01      2.367180e+00     3.368686e+00   \n",
       "\n",
       "       lifeexpectancy   polityscore     urbanrate  \n",
       "count    1.490000e+02  1.490000e+02  1.490000e+02  \n",
       "mean    -1.043163e-16 -2.384372e-17 -2.682418e-16  \n",
       "std      1.003373e+00  1.003373e+00  1.003373e+00  \n",
       "min     -2.134383e+00 -2.202747e+00 -2.042058e+00  \n",
       "25%     -6.925920e-01 -9.231784e-01 -8.460881e-01  \n",
       "50%      3.705287e-01  3.563898e-01  7.848136e-02  \n",
       "75%      7.219786e-01  8.362279e-01  7.271274e-01  \n",
       "max      1.454720e+00  9.961739e-01  2.010850e+00  "
      ]
     },
     "execution_count": 44,
     "metadata": {},
     "output_type": "execute_result"
    }
   ],
   "source": [
    "scaler = preprocessing.StandardScaler()\n",
    "cluster_scaled = pd.DataFrame(scaler.fit_transform(cluster_clean), columns=cluster_clean.columns)\n",
    "cluster_scaled.describe()"
   ]
  },
  {
   "cell_type": "code",
   "execution_count": 45,
   "metadata": {},
   "outputs": [
    {
     "data": {
      "text/plain": [
       "alcconsumption      float64\n",
       "co2emissions        float64\n",
       "femaleemployrate    float64\n",
       "incomeperperson     float64\n",
       "lifeexpectancy      float64\n",
       "polityscore         float64\n",
       "urbanrate           float64\n",
       "dtype: object"
      ]
     },
     "execution_count": 45,
     "metadata": {},
     "output_type": "execute_result"
    }
   ],
   "source": [
    "cluster_scaled.dtypes"
   ]
  },
  {
   "cell_type": "markdown",
   "metadata": {},
   "source": [
    "# K-means cluster analysis "
   ]
  },
  {
   "cell_type": "code",
   "execution_count": 46,
   "metadata": {
    "collapsed": true
   },
   "outputs": [],
   "source": [
    "clusters = range(1,10)\n",
    "meandist= []\n",
    "for k in clusters:\n",
    "    km = KMeans(n_clusters=k).fit(cluster_scaled)\n",
    "    clausassign = km.predict(cluster_scaled)\n",
    "    meandist.append(sum(np.min(cdist(cluster_scaled, km.cluster_centers_, 'minkowski', 2), axis=1))\n",
    "                    /cluster_scaled.shape[0])"
   ]
  },
  {
   "cell_type": "markdown",
   "metadata": {},
   "source": [
    "## Plot average distance from observations from the cluster centroid \n",
    "## to sue the Elbow Method to identify number of clusters to choose"
   ]
  },
  {
   "cell_type": "code",
   "execution_count": 47,
   "metadata": {},
   "outputs": [
    {
     "data": {
      "text/plain": [
       "<matplotlib.text.Text at 0x10d021160>"
      ]
     },
     "execution_count": 47,
     "metadata": {},
     "output_type": "execute_result"
    },
    {
     "data": {
      "image/png": "[encoded data removed]",
      "text/plain": [
       "<matplotlib.figure.Figure at 0x10cfa4cc0>"
      ]
     },
     "metadata": {},
     "output_type": "display_data"
    }
   ],
   "source": [
    "plt.plot(clusters, meandist)\n",
    "plt.xlabel('Number of clusters')\n",
    "plt.ylabel('Average distance')\n",
    "plt.title('Selecting k with the Elbow Method')"
   ]
  },
  {
   "cell_type": "markdown",
   "metadata": {
    "collapsed": true
   },
   "source": [
    "So what this plot shows is the decrease in the average minimum distance of the observations from the cluster centroids for each of the cluster solutions. We can see that the average distance decreases as the number of clusters increases. Since the goal of cluster analysis is to minimize the distance between observations and their assigned clusters we want to chose the fewest numbers of clusters that provides a low average distance. What we’re looking for in this plot is a bend in the elbow that kind of shows where the average distance value might be leveling off such that adding more clusters doesn’t decrease the average distance as much.\n",
    "We can see there appears to be a couple of bends at the line at two clusters and at three clusters, but it’s not very clear. To help us figure out which of the solutions is best we should further examine the cluster solutions for at least the two and three cluster solutions to see whether they do not overlap, whether the patterns of means on the clustering variables are unique and meaningful, and whether there are significant differences between the clusters on our external validation variable “breastcancerper100th”. "
   ]
  },
  {
   "cell_type": "markdown",
   "metadata": {},
   "source": [
    "## Interpret 3 cluster solution"
   ]
  },
  {
   "cell_type": "code",
   "execution_count": 79,
   "metadata": {
    "collapsed": true
   },
   "outputs": [],
   "source": [
    "cluster_scale = cluster_scaled.copy()\n",
    "km3=KMeans(n_clusters=3).fit(cluster_scale)\n",
    "clusassign=km3.predict(cluster_scale)"
   ]
  },
  {
   "cell_type": "code",
   "execution_count": 80,
   "metadata": {},
   "outputs": [
    {
     "data": {
      "image/png": "[encoded data removed]",
      "text/plain": [
       "<matplotlib.figure.Figure at 0x10d38f198>"
      ]
     },
     "metadata": {},
     "output_type": "display_data"
    }
   ],
   "source": [
    "# plot clusters\n",
    "pca_2 = PCA(2)\n",
    "plot_columns = pca_2.fit_transform(cluster_scale)\n",
    "plt.scatter(x=plot_columns[:,0], y=plot_columns[:,1], c=km3.labels_,)\n",
    "plt.xlabel('Canonical variable 1')\n",
    "plt.ylabel('Canonical variable 2')\n",
    "plt.title('Scatterplot of Canonical Variables for 3 Clusters')\n",
    "plt.show()"
   ]
  },
  {
   "cell_type": "markdown",
   "metadata": {},
   "source": [
    "## Merge cluster assignment with clustering variables"
   ]
  },
  {
   "cell_type": "code",
   "execution_count": 50,
   "metadata": {
    "collapsed": true
   },
   "outputs": [],
   "source": [
    "# create a unique identifier variable from the index for the \n",
    "# cluster training data to merge with the cluster assignment variable\n",
    "cluster_scale.reset_index(level=0, inplace=True)\n",
    "# create a list that has the new index variable\n",
    "cluslist=list(cluster_scale['index'])\n",
    "# create a list of cluster assignments\n",
    "labels=list(km3.labels_)\n",
    "# combine index variable list with cluster assignment list into a dictionary\n",
    "newlist=dict(zip(cluslist, labels))\n",
    "#newlist"
   ]
  },
  {
   "cell_type": "code",
   "execution_count": 51,
   "metadata": {},
   "outputs": [
    {
     "data": {
      "text/plain": [
       "149"
      ]
     },
     "execution_count": 51,
     "metadata": {},
     "output_type": "execute_result"
    }
   ],
   "source": [
    "# convert newlist dictionary to a dataframe\n",
    "newclus=DataFrame.from_dict(newlist, orient='index')\n",
    "len(newclus)"
   ]
  },
  {
   "cell_type": "code",
   "execution_count": 52,
   "metadata": {},
   "outputs": [
    {
     "data": {
      "text/html": [
       "<div>\n",
       "<table border=\"1\" class=\"dataframe\">\n",
       "  <thead>\n",
       "    <tr style=\"text-align: right;\">\n",
       "      <th></th>\n",
       "      <th>cluster</th>\n",
       "    </tr>\n",
       "  </thead>\n",
       "  <tbody>\n",
       "    <tr>\n",
       "      <th>0</th>\n",
       "      <td>2</td>\n",
       "    </tr>\n",
       "    <tr>\n",
       "      <th>1</th>\n",
       "      <td>2</td>\n",
       "    </tr>\n",
       "    <tr>\n",
       "      <th>2</th>\n",
       "      <td>1</td>\n",
       "    </tr>\n",
       "    <tr>\n",
       "      <th>3</th>\n",
       "      <td>0</td>\n",
       "    </tr>\n",
       "    <tr>\n",
       "      <th>4</th>\n",
       "      <td>2</td>\n",
       "    </tr>\n",
       "  </tbody>\n",
       "</table>\n",
       "</div>"
      ],
      "text/plain": [
       "   cluster\n",
       "0        2\n",
       "1        2\n",
       "2        1\n",
       "3        0\n",
       "4        2"
      ]
     },
     "execution_count": 52,
     "metadata": {},
     "output_type": "execute_result"
    }
   ],
   "source": [
    "# rename the cluster assignment column\n",
    "newclus.columns = ['cluster']\n",
    "newclus.head()"
   ]
  },
  {
   "cell_type": "code",
   "execution_count": 53,
   "metadata": {},
   "outputs": [
    {
     "data": {
      "text/html": [
       "<div>\n",
       "<table border=\"1\" class=\"dataframe\">\n",
       "  <thead>\n",
       "    <tr style=\"text-align: right;\">\n",
       "      <th></th>\n",
       "      <th>index</th>\n",
       "      <th>alcconsumption</th>\n",
       "      <th>co2emissions</th>\n",
       "      <th>femaleemployrate</th>\n",
       "      <th>incomeperperson</th>\n",
       "      <th>lifeexpectancy</th>\n",
       "      <th>polityscore</th>\n",
       "      <th>urbanrate</th>\n",
       "      <th>cluster</th>\n",
       "    </tr>\n",
       "  </thead>\n",
       "  <tbody>\n",
       "    <tr>\n",
       "      <th>0</th>\n",
       "      <td>0</td>\n",
       "      <td>0.083186</td>\n",
       "      <td>-0.217204</td>\n",
       "      <td>-0.395333</td>\n",
       "      <td>-0.492055</td>\n",
       "      <td>0.801826</td>\n",
       "      <td>0.836228</td>\n",
       "      <td>-0.399183</td>\n",
       "      <td>2</td>\n",
       "    </tr>\n",
       "    <tr>\n",
       "      <th>1</th>\n",
       "      <td>1</td>\n",
       "      <td>-1.207720</td>\n",
       "      <td>-0.125600</td>\n",
       "      <td>-1.092665</td>\n",
       "      <td>-0.459897</td>\n",
       "      <td>0.420030</td>\n",
       "      <td>-0.283394</td>\n",
       "      <td>0.437634</td>\n",
       "      <td>2</td>\n",
       "    </tr>\n",
       "    <tr>\n",
       "      <th>2</th>\n",
       "      <td>2</td>\n",
       "      <td>-0.253232</td>\n",
       "      <td>-0.216372</td>\n",
       "      <td>1.435167</td>\n",
       "      <td>-0.546226</td>\n",
       "      <td>-1.801786</td>\n",
       "      <td>-0.923178</td>\n",
       "      <td>0.052246</td>\n",
       "      <td>1</td>\n",
       "    </tr>\n",
       "    <tr>\n",
       "      <th>3</th>\n",
       "      <td>3</td>\n",
       "      <td>0.486105</td>\n",
       "      <td>-0.026161</td>\n",
       "      <td>-0.140538</td>\n",
       "      <td>0.404156</td>\n",
       "      <td>0.699295</td>\n",
       "      <td>0.676282</td>\n",
       "      <td>1.648983</td>\n",
       "      <td>0</td>\n",
       "    </tr>\n",
       "    <tr>\n",
       "      <th>4</th>\n",
       "      <td>4</td>\n",
       "      <td>1.329105</td>\n",
       "      <td>-0.223040</td>\n",
       "      <td>-0.925037</td>\n",
       "      <td>-0.551730</td>\n",
       "      <td>0.531938</td>\n",
       "      <td>0.196444</td>\n",
       "      <td>0.376117</td>\n",
       "      <td>2</td>\n",
       "    </tr>\n",
       "    <tr>\n",
       "      <th>5</th>\n",
       "      <td>5</td>\n",
       "      <td>0.654314</td>\n",
       "      <td>0.213912</td>\n",
       "      <td>0.442808</td>\n",
       "      <td>1.875171</td>\n",
       "      <td>1.304805</td>\n",
       "      <td>0.996174</td>\n",
       "      <td>1.501522</td>\n",
       "      <td>0</td>\n",
       "    </tr>\n",
       "    <tr>\n",
       "      <th>6</th>\n",
       "      <td>6</td>\n",
       "      <td>1.082660</td>\n",
       "      <td>-0.073717</td>\n",
       "      <td>0.114257</td>\n",
       "      <td>2.021556</td>\n",
       "      <td>1.198644</td>\n",
       "      <td>0.996174</td>\n",
       "      <td>0.525387</td>\n",
       "      <td>0</td>\n",
       "    </tr>\n",
       "    <tr>\n",
       "      <th>7</th>\n",
       "      <td>7</td>\n",
       "      <td>1.266516</td>\n",
       "      <td>-0.207485</td>\n",
       "      <td>0.550090</td>\n",
       "      <td>-0.448443</td>\n",
       "      <td>0.178875</td>\n",
       "      <td>-1.722908</td>\n",
       "      <td>-0.163969</td>\n",
       "      <td>1</td>\n",
       "    </tr>\n",
       "    <tr>\n",
       "      <th>8</th>\n",
       "      <td>8</td>\n",
       "      <td>-0.523149</td>\n",
       "      <td>-0.207726</td>\n",
       "      <td>-1.193242</td>\n",
       "      <td>0.582273</td>\n",
       "      <td>0.614205</td>\n",
       "      <td>-1.722908</td>\n",
       "      <td>1.491571</td>\n",
       "      <td>2</td>\n",
       "    </tr>\n",
       "    <tr>\n",
       "      <th>9</th>\n",
       "      <td>9</td>\n",
       "      <td>-1.309428</td>\n",
       "      <td>-0.204520</td>\n",
       "      <td>0.375757</td>\n",
       "      <td>-0.629709</td>\n",
       "      <td>-0.002093</td>\n",
       "      <td>0.196444</td>\n",
       "      <td>-1.284851</td>\n",
       "      <td>1</td>\n",
       "    </tr>\n",
       "  </tbody>\n",
       "</table>\n",
       "</div>"
      ],
      "text/plain": [
       "   index  alcconsumption  co2emissions  femaleemployrate  incomeperperson  \\\n",
       "0      0        0.083186     -0.217204         -0.395333        -0.492055   \n",
       "1      1       -1.207720     -0.125600         -1.092665        -0.459897   \n",
       "2      2       -0.253232     -0.216372          1.435167        -0.546226   \n",
       "3      3        0.486105     -0.026161         -0.140538         0.404156   \n",
       "4      4        1.329105     -0.223040         -0.925037        -0.551730   \n",
       "5      5        0.654314      0.213912          0.442808         1.875171   \n",
       "6      6        1.082660     -0.073717          0.114257         2.021556   \n",
       "7      7        1.266516     -0.207485          0.550090        -0.448443   \n",
       "8      8       -0.523149     -0.207726         -1.193242         0.582273   \n",
       "9      9       -1.309428     -0.204520          0.375757        -0.629709   \n",
       "\n",
       "   lifeexpectancy  polityscore  urbanrate  cluster  \n",
       "0        0.801826     0.836228  -0.399183        2  \n",
       "1        0.420030    -0.283394   0.437634        2  \n",
       "2       -1.801786    -0.923178   0.052246        1  \n",
       "3        0.699295     0.676282   1.648983        0  \n",
       "4        0.531938     0.196444   0.376117        2  \n",
       "5        1.304805     0.996174   1.501522        0  \n",
       "6        1.198644     0.996174   0.525387        0  \n",
       "7        0.178875    -1.722908  -0.163969        1  \n",
       "8        0.614205    -1.722908   1.491571        2  \n",
       "9       -0.002093     0.196444  -1.284851        1  "
      ]
     },
     "execution_count": 53,
     "metadata": {},
     "output_type": "execute_result"
    }
   ],
   "source": [
    "# now do the same for the cluster assignment variable\n",
    "# create a unique identifier variable from the index for the \n",
    "# cluster assignment dataframe to merge with cluster training data\n",
    "newclus.reset_index(level=0, inplace=True)\n",
    "\n",
    "# merge the cluster assignment dataframe with the cluster training variable dataframe\n",
    "# by the index variable\n",
    "merged_train=pd.merge(cluster_scale, newclus, on='index')\n",
    "merged_train.head(n=10)"
   ]
  },
  {
   "cell_type": "markdown",
   "metadata": {},
   "source": [
    "## Cluster frequencies"
   ]
  },
  {
   "cell_type": "code",
   "execution_count": 54,
   "metadata": {},
   "outputs": [
    {
     "data": {
      "text/plain": [
       "1    52\n",
       "2    49\n",
       "0    48\n",
       "Name: cluster, dtype: int64"
      ]
     },
     "execution_count": 54,
     "metadata": {},
     "output_type": "execute_result"
    }
   ],
   "source": [
    "merged_train.cluster.value_counts()"
   ]
  },
  {
   "cell_type": "markdown",
   "metadata": {},
   "source": [
    "## END multiple steps to merge cluster assignment with clustering variables to examine cluster variable means by cluster"
   ]
  },
  {
   "cell_type": "code",
   "execution_count": 55,
   "metadata": {},
   "outputs": [
    {
     "name": "stdout",
     "output_type": "stream",
     "text": [
      "Clustering variable means by cluster\n"
     ]
    },
    {
     "data": {
      "text/html": [
       "<div>\n",
       "<table border=\"1\" class=\"dataframe\">\n",
       "  <thead>\n",
       "    <tr style=\"text-align: right;\">\n",
       "      <th></th>\n",
       "      <th>index</th>\n",
       "      <th>alcconsumption</th>\n",
       "      <th>co2emissions</th>\n",
       "      <th>femaleemployrate</th>\n",
       "      <th>incomeperperson</th>\n",
       "      <th>lifeexpectancy</th>\n",
       "      <th>polityscore</th>\n",
       "      <th>urbanrate</th>\n",
       "    </tr>\n",
       "    <tr>\n",
       "      <th>cluster</th>\n",
       "      <th></th>\n",
       "      <th></th>\n",
       "      <th></th>\n",
       "      <th></th>\n",
       "      <th></th>\n",
       "      <th></th>\n",
       "      <th></th>\n",
       "      <th></th>\n",
       "    </tr>\n",
       "  </thead>\n",
       "  <tbody>\n",
       "    <tr>\n",
       "      <th>0</th>\n",
       "      <td>74.895833</td>\n",
       "      <td>0.996273</td>\n",
       "      <td>0.309771</td>\n",
       "      <td>0.065924</td>\n",
       "      <td>0.923397</td>\n",
       "      <td>0.878449</td>\n",
       "      <td>0.786245</td>\n",
       "      <td>0.821364</td>\n",
       "    </tr>\n",
       "    <tr>\n",
       "      <th>1</th>\n",
       "      <td>73.903846</td>\n",
       "      <td>-0.407675</td>\n",
       "      <td>-0.147408</td>\n",
       "      <td>0.802048</td>\n",
       "      <td>-0.601916</td>\n",
       "      <td>-1.021926</td>\n",
       "      <td>-0.520237</td>\n",
       "      <td>-0.940869</td>\n",
       "    </tr>\n",
       "    <tr>\n",
       "      <th>2</th>\n",
       "      <td>73.224490</td>\n",
       "      <td>-0.543307</td>\n",
       "      <td>-0.147016</td>\n",
       "      <td>-0.915732</td>\n",
       "      <td>-0.265784</td>\n",
       "      <td>0.223971</td>\n",
       "      <td>-0.218110</td>\n",
       "      <td>0.193873</td>\n",
       "    </tr>\n",
       "  </tbody>\n",
       "</table>\n",
       "</div>"
      ],
      "text/plain": [
       "             index  alcconsumption  co2emissions  femaleemployrate  \\\n",
       "cluster                                                              \n",
       "0        74.895833        0.996273      0.309771          0.065924   \n",
       "1        73.903846       -0.407675     -0.147408          0.802048   \n",
       "2        73.224490       -0.543307     -0.147016         -0.915732   \n",
       "\n",
       "         incomeperperson  lifeexpectancy  polityscore  urbanrate  \n",
       "cluster                                                           \n",
       "0               0.923397        0.878449     0.786245   0.821364  \n",
       "1              -0.601916       -1.021926    -0.520237  -0.940869  \n",
       "2              -0.265784        0.223971    -0.218110   0.193873  "
      ]
     },
     "execution_count": 55,
     "metadata": {},
     "output_type": "execute_result"
    }
   ],
   "source": [
    "# FINALLY calculate clustering variable means by cluster\n",
    "clustergrp = merged_train.groupby('cluster').mean()\n",
    "print (\"Clustering variable means by cluster\")\n",
    "clustergrp"
   ]
  },
  {
   "cell_type": "markdown",
   "metadata": {
    "collapsed": true
   },
   "source": [
    "## Validate clusters in training data"
   ]
  },
  {
   "cell_type": "code",
   "execution_count": null,
   "metadata": {},
   "outputs": [],
   "source": []
  },
  {
   "cell_type": "code",
   "execution_count": 56,
   "metadata": {
    "collapsed": true
   },
   "outputs": [],
   "source": [
    "# validate clusters by examining cluster differences in breastcanerper100th using ANOVA\n",
    "# first have to merge breast cancer with clustering variables and cluster assignment data \n",
    "bc100_data=dfgm['breastcancerper100th']"
   ]
  },
  {
   "cell_type": "code",
   "execution_count": 57,
   "metadata": {
    "collapsed": true
   },
   "outputs": [],
   "source": [
    "# split GPA data into train and test sets\n",
    "bc100_train, bc100_test = train_test_split(bc100_data, test_size=.3, random_state=42)\n",
    "bc100_train1=pd.DataFrame(bc100_train)\n"
   ]
  },
  {
   "cell_type": "code",
   "execution_count": 58,
   "metadata": {},
   "outputs": [
    {
     "data": {
      "text/plain": [
       "149"
      ]
     },
     "execution_count": 58,
     "metadata": {},
     "output_type": "execute_result"
    }
   ],
   "source": [
    "len(bc100_train1)"
   ]
  },
  {
   "cell_type": "code",
   "execution_count": 59,
   "metadata": {},
   "outputs": [
    {
     "data": {
      "text/plain": [
       "106"
      ]
     },
     "execution_count": 59,
     "metadata": {},
     "output_type": "execute_result"
    }
   ],
   "source": [
    "bc100_train1.reset_index(level=0, inplace=True)\n",
    "merged_train_all=pd.merge(bc100_train1, merged_train, on='index')\n",
    "len(merged_train_all)"
   ]
  },
  {
   "cell_type": "code",
   "execution_count": 60,
   "metadata": {
    "collapsed": true
   },
   "outputs": [],
   "source": [
    "sub = merged_train_all[['breastcancerper100th', 'cluster']].dropna()"
   ]
  },
  {
   "cell_type": "code",
   "execution_count": 61,
   "metadata": {},
   "outputs": [
    {
     "data": {
      "text/plain": [
       "dtype('int64')"
      ]
     },
     "execution_count": 61,
     "metadata": {},
     "output_type": "execute_result"
    }
   ],
   "source": [
    "sub.cluster.dtype"
   ]
  },
  {
   "cell_type": "code",
   "execution_count": 62,
   "metadata": {
    "collapsed": true
   },
   "outputs": [],
   "source": [
    "bcmod = smf.ols(formula='breastcancerper100th ~ C(cluster)', data=sub).fit()"
   ]
  },
  {
   "cell_type": "code",
   "execution_count": 63,
   "metadata": {},
   "outputs": [
    {
     "data": {
      "text/html": [
       "<table class=\"simpletable\">\n",
       "<caption>OLS Regression Results</caption>\n",
       "<tr>\n",
       "  <th>Dep. Variable:</th>    <td>breastcancerper100th</td> <th>  R-squared:         </th> <td>   0.012</td>\n",
       "</tr>\n",
       "<tr>\n",
       "  <th>Model:</th>                     <td>OLS</td>         <th>  Adj. R-squared:    </th> <td>  -0.011</td>\n",
       "</tr>\n",
       "<tr>\n",
       "  <th>Method:</th>               <td>Least Squares</td>    <th>  F-statistic:       </th> <td>  0.5207</td>\n",
       "</tr>\n",
       "<tr>\n",
       "  <th>Date:</th>               <td>Tue, 13 Jun 2017</td>   <th>  Prob (F-statistic):</th>  <td> 0.596</td> \n",
       "</tr>\n",
       "<tr>\n",
       "  <th>Time:</th>                   <td>00:41:05</td>       <th>  Log-Likelihood:    </th> <td> -396.14</td>\n",
       "</tr>\n",
       "<tr>\n",
       "  <th>No. Observations:</th>        <td>    87</td>        <th>  AIC:               </th> <td>   798.3</td>\n",
       "</tr>\n",
       "<tr>\n",
       "  <th>Df Residuals:</th>            <td>    84</td>        <th>  BIC:               </th> <td>   805.7</td>\n",
       "</tr>\n",
       "<tr>\n",
       "  <th>Df Model:</th>                <td>     2</td>        <th>                     </th>     <td> </td>   \n",
       "</tr>\n",
       "<tr>\n",
       "  <th>Covariance Type:</th>        <td>nonrobust</td>      <th>                     </th>     <td> </td>   \n",
       "</tr>\n",
       "</table>\n",
       "<table class=\"simpletable\">\n",
       "<tr>\n",
       "         <td></td>            <th>coef</th>     <th>std err</th>      <th>t</th>      <th>P>|t|</th>  <th>[0.025</th>    <th>0.975]</th>  \n",
       "</tr>\n",
       "<tr>\n",
       "  <th>Intercept</th>       <td>   36.2615</td> <td>    4.586</td> <td>    7.908</td> <td> 0.000</td> <td>   27.143</td> <td>   45.380</td>\n",
       "</tr>\n",
       "<tr>\n",
       "  <th>C(cluster)[T.1]</th> <td>   -1.8171</td> <td>    6.425</td> <td>   -0.283</td> <td> 0.778</td> <td>  -14.593</td> <td>   10.959</td>\n",
       "</tr>\n",
       "<tr>\n",
       "  <th>C(cluster)[T.2]</th> <td>    4.1120</td> <td>    6.092</td> <td>    0.675</td> <td> 0.502</td> <td>   -8.002</td> <td>   16.226</td>\n",
       "</tr>\n",
       "</table>\n",
       "<table class=\"simpletable\">\n",
       "<tr>\n",
       "  <th>Omnibus:</th>       <td>12.356</td> <th>  Durbin-Watson:     </th> <td>   2.382</td>\n",
       "</tr>\n",
       "<tr>\n",
       "  <th>Prob(Omnibus):</th> <td> 0.002</td> <th>  Jarque-Bera (JB):  </th> <td>  14.163</td>\n",
       "</tr>\n",
       "<tr>\n",
       "  <th>Skew:</th>          <td> 0.988</td> <th>  Prob(JB):          </th> <td>0.000841</td>\n",
       "</tr>\n",
       "<tr>\n",
       "  <th>Kurtosis:</th>      <td> 2.964</td> <th>  Cond. No.          </th> <td>    3.93</td>\n",
       "</tr>\n",
       "</table>"
      ],
      "text/plain": [
       "<class 'statsmodels.iolib.summary.Summary'>\n",
       "\"\"\"\n",
       "                             OLS Regression Results                             \n",
       "================================================================================\n",
       "Dep. Variable:     breastcancerper100th   R-squared:                       0.012\n",
       "Model:                              OLS   Adj. R-squared:                 -0.011\n",
       "Method:                   Least Squares   F-statistic:                    0.5207\n",
       "Date:                  Tue, 13 Jun 2017   Prob (F-statistic):              0.596\n",
       "Time:                          00:41:05   Log-Likelihood:                -396.14\n",
       "No. Observations:                    87   AIC:                             798.3\n",
       "Df Residuals:                        84   BIC:                             805.7\n",
       "Df Model:                             2                                         \n",
       "Covariance Type:              nonrobust                                         \n",
       "===================================================================================\n",
       "                      coef    std err          t      P>|t|      [0.025      0.975]\n",
       "-----------------------------------------------------------------------------------\n",
       "Intercept          36.2615      4.586      7.908      0.000      27.143      45.380\n",
       "C(cluster)[T.1]    -1.8171      6.425     -0.283      0.778     -14.593      10.959\n",
       "C(cluster)[T.2]     4.1120      6.092      0.675      0.502      -8.002      16.226\n",
       "==============================================================================\n",
       "Omnibus:                       12.356   Durbin-Watson:                   2.382\n",
       "Prob(Omnibus):                  0.002   Jarque-Bera (JB):               14.163\n",
       "Skew:                           0.988   Prob(JB):                     0.000841\n",
       "Kurtosis:                       2.964   Cond. No.                         3.93\n",
       "==============================================================================\n",
       "\n",
       "Warnings:\n",
       "[1] Standard Errors assume that the covariance matrix of the errors is correctly specified.\n",
       "\"\"\""
      ]
     },
     "execution_count": 63,
     "metadata": {},
     "output_type": "execute_result"
    }
   ],
   "source": [
    "bcmod.summary()"
   ]
  },
  {
   "cell_type": "code",
   "execution_count": 68,
   "metadata": {},
   "outputs": [
    {
     "name": "stdout",
     "output_type": "stream",
     "text": [
      "means for breast cancer by cluster\n"
     ]
    },
    {
     "data": {
      "text/html": [
       "<div>\n",
       "<table border=\"1\" class=\"dataframe\">\n",
       "  <thead>\n",
       "    <tr style=\"text-align: right;\">\n",
       "      <th></th>\n",
       "      <th>breastcancerper100th</th>\n",
       "    </tr>\n",
       "    <tr>\n",
       "      <th>cluster</th>\n",
       "      <th></th>\n",
       "    </tr>\n",
       "  </thead>\n",
       "  <tbody>\n",
       "    <tr>\n",
       "      <th>0</th>\n",
       "      <td>36.261538</td>\n",
       "    </tr>\n",
       "    <tr>\n",
       "      <th>1</th>\n",
       "      <td>34.444444</td>\n",
       "    </tr>\n",
       "    <tr>\n",
       "      <th>2</th>\n",
       "      <td>40.373529</td>\n",
       "    </tr>\n",
       "  </tbody>\n",
       "</table>\n",
       "</div>"
      ],
      "text/plain": [
       "         breastcancerper100th\n",
       "cluster                      \n",
       "0                   36.261538\n",
       "1                   34.444444\n",
       "2                   40.373529"
      ]
     },
     "execution_count": 68,
     "metadata": {},
     "output_type": "execute_result"
    }
   ],
   "source": [
    "print ('means for breast cancer by cluster')\n",
    "m1= sub.groupby('cluster').mean()\n",
    "m1"
   ]
  },
  {
   "cell_type": "code",
   "execution_count": 69,
   "metadata": {},
   "outputs": [
    {
     "name": "stdout",
     "output_type": "stream",
     "text": [
      "standard deviations for breast cancer by cluster\n"
     ]
    },
    {
     "data": {
      "text/html": [
       "<div>\n",
       "<table border=\"1\" class=\"dataframe\">\n",
       "  <thead>\n",
       "    <tr style=\"text-align: right;\">\n",
       "      <th></th>\n",
       "      <th>breastcancerper100th</th>\n",
       "    </tr>\n",
       "    <tr>\n",
       "      <th>cluster</th>\n",
       "      <th></th>\n",
       "    </tr>\n",
       "  </thead>\n",
       "  <tbody>\n",
       "    <tr>\n",
       "      <th>0</th>\n",
       "      <td>22.144003</td>\n",
       "    </tr>\n",
       "    <tr>\n",
       "      <th>1</th>\n",
       "      <td>21.186849</td>\n",
       "    </tr>\n",
       "    <tr>\n",
       "      <th>2</th>\n",
       "      <td>25.815820</td>\n",
       "    </tr>\n",
       "  </tbody>\n",
       "</table>\n",
       "</div>"
      ],
      "text/plain": [
       "         breastcancerper100th\n",
       "cluster                      \n",
       "0                   22.144003\n",
       "1                   21.186849\n",
       "2                   25.815820"
      ]
     },
     "execution_count": 69,
     "metadata": {},
     "output_type": "execute_result"
    }
   ],
   "source": [
    "print ('standard deviations for breast cancer by cluster')\n",
    "m2= sub.groupby('cluster').std()\n",
    "m2"
   ]
  },
  {
   "cell_type": "code",
   "execution_count": 70,
   "metadata": {},
   "outputs": [
    {
     "data": {
      "text/html": [
       "<table class=\"simpletable\">\n",
       "<caption>Multiple Comparison of Means - Tukey HSD,FWER=0.05</caption>\n",
       "<tr>\n",
       "  <th>group1</th> <th>group2</th> <th>meandiff</th>   <th>lower</th>   <th>upper</th>  <th>reject</th>\n",
       "</tr>\n",
       "<tr>\n",
       "     <td>0</td>      <td>1</td>    <td>-1.8171</td> <td>-17.1463</td> <td>13.5121</td>  <td>False</td>\n",
       "</tr>\n",
       "<tr>\n",
       "     <td>0</td>      <td>2</td>     <td>4.112</td>  <td>-10.4225</td> <td>18.6465</td>  <td>False</td>\n",
       "</tr>\n",
       "<tr>\n",
       "     <td>1</td>      <td>2</td>    <td>5.9291</td>   <td>-8.4521</td> <td>20.3103</td>  <td>False</td>\n",
       "</tr>\n",
       "</table>"
      ],
      "text/plain": [
       "<class 'statsmodels.iolib.table.SimpleTable'>"
      ]
     },
     "execution_count": 70,
     "metadata": {},
     "output_type": "execute_result"
    }
   ],
   "source": [
    "mc1 = multi.MultiComparison(sub['breastcancerper100th'], sub['cluster'])\n",
    "res1 = mc1.tukeyhsd()\n",
    "res1.summary()"
   ]
  },
  {
   "cell_type": "markdown",
   "metadata": {},
   "source": [
    "## Data Analysis:"
   ]
  },
  {
   "cell_type": "markdown",
   "metadata": {},
   "source": [
    "Predictors with regression coefficients that do not have a value of zero are included in the selected model. Predictors with regression coefficients equal to zero means that the coefficients for those variables had shrunk to zero after applying the LASSO regression penalty, and were subsequently removed from the model. \n",
    "\n",
    "Python console results shows that of the 10 variables, 5 were selected in the final model.\n",
    "So we can also use the size of the regression coefficients to tell us which predictors are the strongest predictors of breast cancer incidence. For example, urban rate and alcohol consumption had the largest regression coefficients, and were most strongly associated with breast cancer incidence, followed by life expectancy and CO2 emissions.\n",
    "From the first plot we can see the relative importance of the predictor selected at any step of the selection process, how the regression coefficients changed with the addition of a new predictor at each step, as well as the steps at which each variable entered the model. \n",
    "The second plot shows the change in the mean square error for the change in the penalty parameter alpha at each step in the selection process.\n"
   ]
  },
  {
   "cell_type": "code",
   "execution_count": null,
   "metadata": {
    "collapsed": true
   },
   "outputs": [],
   "source": []
  }
 ],
 "metadata": {
  "kernelspec": {
   "display_name": "Python 3",
   "language": "python",
   "name": "python3"
  },
  "language_info": {
   "codemirror_mode": {
    "name": "ipython",
    "version": 3
   },
   "file_extension": ".py",
   "mimetype": "text/x-python",
   "name": "python",
   "nbconvert_exporter": "python",
   "pygments_lexer": "ipython3",
   "version": "3.6.1"
  }
 },
 "nbformat": 4,
 "nbformat_minor": 2
}
