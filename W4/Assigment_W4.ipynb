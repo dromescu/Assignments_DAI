{
 "cells": [
  {
   "cell_type": "markdown",
   "metadata": {},
   "source": [
    "# K-means cluster analysis - Assignment Week 4"
   ]
  },
  {
   "cell_type": "markdown",
   "metadata": {},
   "source": [
    "To do's: This week’s assignment involves running a k-means cluster analysis. Cluster analysis is an unsupervised machine learning method that partitions the observations in a data set into a smaller set of clusters where each observation belongs to only one cluster. The goal of cluster analysis is to group, or cluster, observations into subsets based on their similarity of responses on multiple variables. Clustering variables should be primarily quantitative variables, but binary variables may also be included.\n",
    "\n",
    "Your assignment is to run a k-means cluster analysis to identify subgroups of observations in your data set that have similar patterns of response on a set of clustering variables."
   ]
  },
  {
   "cell_type": "markdown",
   "metadata": {},
   "source": [
    "A k-means cluster analysis performed with the Gapminder dataset was conducted to identify subgroups of countries based on their similarity of responses on 5 variables that represent characteristics that could have an impact on breast cancer incidence. Clustering variables in this case are all quantitative, measuring the consumption of alcohol, CO2 emissions, female employment rate, income per person and life expectancy.\n",
    "All clustering variables were standardized to have a mean of 0 and a standard deviation of 1. \n",
    "Data were not split into training and test set since there is a relatively small number of observations (214 countries).\n",
    "A series of k-means cluster analyses were conducted on the data specifying k=1-9 clusters, using Euclidean distance. The variance in the clustering variables that was accounted for by the clusters (r-square) was plotted for each of the nine cluster solutions in an elbow curve to provide guidance for choosing the number of clusters to interpret. "
   ]
  },
  {
   "cell_type": "code",
   "execution_count": 81,
   "metadata": {
    "collapsed": true
   },
   "outputs": [],
   "source": [
    "%matplotlib inline\n",
    "from pandas import Series, DataFrame\n",
    "import pandas as pd\n",
    "import numpy as np\n",
    "import matplotlib.pylab as plt\n",
    "from sklearn.model_selection import train_test_split"
   ]
  },
  {
   "cell_type": "code",
   "execution_count": 82,
   "metadata": {
    "collapsed": true
   },
   "outputs": [],
   "source": [
    "from sklearn import preprocessing\n",
    "from scipy.spatial.distance import cdist\n",
    "from sklearn.decomposition import PCA\n",
    "\n",
    "import statsmodels.formula.api as smf\n",
    "import statsmodels.stats.multicomp as multi "
   ]
  },
  {
   "cell_type": "markdown",
   "metadata": {},
   "source": [
    "## Build model on training data\n"
   ]
  },
  {
   "cell_type": "code",
   "execution_count": 83,
   "metadata": {
    "collapsed": true
   },
   "outputs": [],
   "source": [
    "from sklearn.cluster import KMeans"
   ]
  },
  {
   "cell_type": "markdown",
   "metadata": {},
   "source": [
    "## Data Management: Loading the GapMinder dataset "
   ]
  },
  {
   "cell_type": "code",
   "execution_count": 84,
   "metadata": {
    "collapsed": true
   },
   "outputs": [],
   "source": [
    "def primary_clean(df, nan_subset = []):\n",
    "    df = df.rename(columns=lambda x: x.strip()) #remove whitespaces from headers\n",
    "    #delete all column with just NaN\n",
    "    df = df.dropna(axis=1, how='all')\n",
    "    #drop duplicates\n",
    "    df = df.drop_duplicates()\n",
    "    #drop compliance = NaN\n",
    "    df = df.dropna(subset=nan_subset)\n",
    "    #convert to numeric our objects\n",
    "    df[nan_subset] = df[nan_subset].apply(pd.to_numeric, errors='coerce')\n",
    "    return df"
   ]
  },
  {
   "cell_type": "code",
   "execution_count": 85,
   "metadata": {
    "collapsed": true
   },
   "outputs": [],
   "source": [
    "df = pd.read_csv('gapminder.csv')"
   ]
  },
  {
   "cell_type": "markdown",
   "metadata": {},
   "source": [
    "## Set my Variables"
   ]
  },
  {
   "cell_type": "code",
   "execution_count": 86,
   "metadata": {
    "collapsed": true
   },
   "outputs": [],
   "source": [
    "#features to be convert to numeric\n",
    "variables = ['alcconsumption',  'co2emissions', 'femaleemployrate',\n",
    "              'incomeperperson', 'lifeexpectancy'] #, 'polityscore', 'urbanrate'\n",
    "other = ['breastcancerper100th']"
   ]
  },
  {
   "cell_type": "code",
   "execution_count": 87,
   "metadata": {},
   "outputs": [],
   "source": [
    "other.extend(variables)\n",
    "dfgm = primary_clean(df, other)"
   ]
  },
  {
   "cell_type": "code",
   "execution_count": 88,
   "metadata": {},
   "outputs": [],
   "source": [
    "data_clean = dfgm.dropna()"
   ]
  },
  {
   "cell_type": "markdown",
   "metadata": {},
   "source": [
    "## Subset clustering variables"
   ]
  },
  {
   "cell_type": "code",
   "execution_count": 89,
   "metadata": {},
   "outputs": [
    {
     "data": {
      "text/html": [
       "<div>\n",
       "<table border=\"1\" class=\"dataframe\">\n",
       "  <thead>\n",
       "    <tr style=\"text-align: right;\">\n",
       "      <th></th>\n",
       "      <th>alcconsumption</th>\n",
       "      <th>co2emissions</th>\n",
       "      <th>femaleemployrate</th>\n",
       "      <th>incomeperperson</th>\n",
       "      <th>lifeexpectancy</th>\n",
       "    </tr>\n",
       "  </thead>\n",
       "  <tbody>\n",
       "    <tr>\n",
       "      <th>count</th>\n",
       "      <td>159.000000</td>\n",
       "      <td>1.590000e+02</td>\n",
       "      <td>159.000000</td>\n",
       "      <td>159.000000</td>\n",
       "      <td>159.000000</td>\n",
       "    </tr>\n",
       "    <tr>\n",
       "      <th>mean</th>\n",
       "      <td>6.862579</td>\n",
       "      <td>6.237236e+09</td>\n",
       "      <td>47.932075</td>\n",
       "      <td>7306.211771</td>\n",
       "      <td>69.459566</td>\n",
       "    </tr>\n",
       "    <tr>\n",
       "      <th>std</th>\n",
       "      <td>5.018234</td>\n",
       "      <td>2.875501e+10</td>\n",
       "      <td>14.859333</td>\n",
       "      <td>10557.944375</td>\n",
       "      <td>9.851101</td>\n",
       "    </tr>\n",
       "    <tr>\n",
       "      <th>min</th>\n",
       "      <td>0.050000</td>\n",
       "      <td>2.368667e+06</td>\n",
       "      <td>12.400000</td>\n",
       "      <td>103.775857</td>\n",
       "      <td>47.794000</td>\n",
       "    </tr>\n",
       "    <tr>\n",
       "      <th>25%</th>\n",
       "      <td>2.725000</td>\n",
       "      <td>8.375400e+07</td>\n",
       "      <td>39.000000</td>\n",
       "      <td>609.744287</td>\n",
       "      <td>62.747000</td>\n",
       "    </tr>\n",
       "    <tr>\n",
       "      <th>50%</th>\n",
       "      <td>6.120000</td>\n",
       "      <td>2.835837e+08</td>\n",
       "      <td>48.000000</td>\n",
       "      <td>2425.471293</td>\n",
       "      <td>73.127000</td>\n",
       "    </tr>\n",
       "    <tr>\n",
       "      <th>75%</th>\n",
       "      <td>9.990000</td>\n",
       "      <td>2.413521e+09</td>\n",
       "      <td>56.450001</td>\n",
       "      <td>8550.031767</td>\n",
       "      <td>76.593000</td>\n",
       "    </tr>\n",
       "    <tr>\n",
       "      <th>max</th>\n",
       "      <td>23.010000</td>\n",
       "      <td>3.342209e+11</td>\n",
       "      <td>83.300003</td>\n",
       "      <td>52301.587179</td>\n",
       "      <td>83.394000</td>\n",
       "    </tr>\n",
       "  </tbody>\n",
       "</table>\n",
       "</div>"
      ],
      "text/plain": [
       "       alcconsumption  co2emissions  femaleemployrate  incomeperperson  \\\n",
       "count      159.000000  1.590000e+02        159.000000       159.000000   \n",
       "mean         6.862579  6.237236e+09         47.932075      7306.211771   \n",
       "std          5.018234  2.875501e+10         14.859333     10557.944375   \n",
       "min          0.050000  2.368667e+06         12.400000       103.775857   \n",
       "25%          2.725000  8.375400e+07         39.000000       609.744287   \n",
       "50%          6.120000  2.835837e+08         48.000000      2425.471293   \n",
       "75%          9.990000  2.413521e+09         56.450001      8550.031767   \n",
       "max         23.010000  3.342209e+11         83.300003     52301.587179   \n",
       "\n",
       "       lifeexpectancy  \n",
       "count      159.000000  \n",
       "mean        69.459566  \n",
       "std          9.851101  \n",
       "min         47.794000  \n",
       "25%         62.747000  \n",
       "50%         73.127000  \n",
       "75%         76.593000  \n",
       "max         83.394000  "
      ]
     },
     "execution_count": 89,
     "metadata": {},
     "output_type": "execute_result"
    }
   ],
   "source": [
    "dfcluster = data_clean[variables]\n",
    "dfcluster.describe()"
   ]
  },
  {
   "cell_type": "code",
   "execution_count": 90,
   "metadata": {
    "collapsed": true
   },
   "outputs": [],
   "source": [
    "cluster_clean = dfcluster.dropna()"
   ]
  },
  {
   "cell_type": "code",
   "execution_count": 91,
   "metadata": {},
   "outputs": [
    {
     "data": {
      "text/html": [
       "<div>\n",
       "<table border=\"1\" class=\"dataframe\">\n",
       "  <thead>\n",
       "    <tr style=\"text-align: right;\">\n",
       "      <th></th>\n",
       "      <th>alcconsumption</th>\n",
       "      <th>co2emissions</th>\n",
       "      <th>femaleemployrate</th>\n",
       "      <th>incomeperperson</th>\n",
       "      <th>lifeexpectancy</th>\n",
       "    </tr>\n",
       "  </thead>\n",
       "  <tbody>\n",
       "    <tr>\n",
       "      <th>count</th>\n",
       "      <td>1.590000e+02</td>\n",
       "      <td>1.590000e+02</td>\n",
       "      <td>1.590000e+02</td>\n",
       "      <td>1.590000e+02</td>\n",
       "      <td>1.590000e+02</td>\n",
       "    </tr>\n",
       "    <tr>\n",
       "      <th>mean</th>\n",
       "      <td>-1.871319e-16</td>\n",
       "      <td>2.234411e-17</td>\n",
       "      <td>1.675808e-17</td>\n",
       "      <td>-6.144631e-17</td>\n",
       "      <td>-4.915704e-16</td>\n",
       "    </tr>\n",
       "    <tr>\n",
       "      <th>std</th>\n",
       "      <td>1.003160e+00</td>\n",
       "      <td>1.003160e+00</td>\n",
       "      <td>1.003160e+00</td>\n",
       "      <td>1.003160e+00</td>\n",
       "      <td>1.003160e+00</td>\n",
       "    </tr>\n",
       "    <tr>\n",
       "      <th>min</th>\n",
       "      <td>-1.361854e+00</td>\n",
       "      <td>-2.175123e-01</td>\n",
       "      <td>-2.398785e+00</td>\n",
       "      <td>-6.843370e-01</td>\n",
       "      <td>-2.206253e+00</td>\n",
       "    </tr>\n",
       "    <tr>\n",
       "      <th>25%</th>\n",
       "      <td>-8.271140e-01</td>\n",
       "      <td>-2.146730e-01</td>\n",
       "      <td>-6.030080e-01</td>\n",
       "      <td>-6.362626e-01</td>\n",
       "      <td>-6.835556e-01</td>\n",
       "    </tr>\n",
       "    <tr>\n",
       "      <th>50%</th>\n",
       "      <td>-1.484436e-01</td>\n",
       "      <td>-2.077017e-01</td>\n",
       "      <td>4.585620e-03</td>\n",
       "      <td>-4.637419e-01</td>\n",
       "      <td>3.734630e-01</td>\n",
       "    </tr>\n",
       "    <tr>\n",
       "      <th>75%</th>\n",
       "      <td>6.251806e-01</td>\n",
       "      <td>-1.333958e-01</td>\n",
       "      <td>5.750486e-01</td>\n",
       "      <td>1.181811e-01</td>\n",
       "      <td>7.264135e-01</td>\n",
       "    </tr>\n",
       "    <tr>\n",
       "      <th>max</th>\n",
       "      <td>3.227916e+00</td>\n",
       "      <td>1.144218e+01</td>\n",
       "      <td>2.387703e+00</td>\n",
       "      <td>4.275221e+00</td>\n",
       "      <td>1.418974e+00</td>\n",
       "    </tr>\n",
       "  </tbody>\n",
       "</table>\n",
       "</div>"
      ],
      "text/plain": [
       "       alcconsumption  co2emissions  femaleemployrate  incomeperperson  \\\n",
       "count    1.590000e+02  1.590000e+02      1.590000e+02     1.590000e+02   \n",
       "mean    -1.871319e-16  2.234411e-17      1.675808e-17    -6.144631e-17   \n",
       "std      1.003160e+00  1.003160e+00      1.003160e+00     1.003160e+00   \n",
       "min     -1.361854e+00 -2.175123e-01     -2.398785e+00    -6.843370e-01   \n",
       "25%     -8.271140e-01 -2.146730e-01     -6.030080e-01    -6.362626e-01   \n",
       "50%     -1.484436e-01 -2.077017e-01      4.585620e-03    -4.637419e-01   \n",
       "75%      6.251806e-01 -1.333958e-01      5.750486e-01     1.181811e-01   \n",
       "max      3.227916e+00  1.144218e+01      2.387703e+00     4.275221e+00   \n",
       "\n",
       "       lifeexpectancy  \n",
       "count    1.590000e+02  \n",
       "mean    -4.915704e-16  \n",
       "std      1.003160e+00  \n",
       "min     -2.206253e+00  \n",
       "25%     -6.835556e-01  \n",
       "50%      3.734630e-01  \n",
       "75%      7.264135e-01  \n",
       "max      1.418974e+00  "
      ]
     },
     "execution_count": 91,
     "metadata": {},
     "output_type": "execute_result"
    }
   ],
   "source": [
    "scaler = preprocessing.StandardScaler()\n",
    "cluster_scaled = pd.DataFrame(scaler.fit_transform(cluster_clean), columns=cluster_clean.columns)\n",
    "cluster_scaled.describe()"
   ]
  },
  {
   "cell_type": "code",
   "execution_count": 92,
   "metadata": {},
   "outputs": [
    {
     "data": {
      "text/plain": [
       "alcconsumption      float64\n",
       "co2emissions        float64\n",
       "femaleemployrate    float64\n",
       "incomeperperson     float64\n",
       "lifeexpectancy      float64\n",
       "dtype: object"
      ]
     },
     "execution_count": 92,
     "metadata": {},
     "output_type": "execute_result"
    }
   ],
   "source": [
    "cluster_scaled.dtypes"
   ]
  },
  {
   "cell_type": "markdown",
   "metadata": {},
   "source": [
    "# K-means cluster analysis "
   ]
  },
  {
   "cell_type": "code",
   "execution_count": 93,
   "metadata": {
    "collapsed": true
   },
   "outputs": [],
   "source": [
    "clusters = range(1,10)\n",
    "meandist= []\n",
    "for k in clusters:\n",
    "    km = KMeans(n_clusters=k).fit(cluster_scaled)\n",
    "    clausassign = km.predict(cluster_scaled)\n",
    "    meandist.append(sum(np.min(cdist(cluster_scaled, km.cluster_centers_, 'minkowski', 2), axis=1))\n",
    "                    /cluster_scaled.shape[0])"
   ]
  },
  {
   "cell_type": "markdown",
   "metadata": {},
   "source": [
    "## Plot average distance from observations from the cluster centroid \n",
    "## to sue the Elbow Method to identify number of clusters to choose"
   ]
  },
  {
   "cell_type": "code",
   "execution_count": 94,
   "metadata": {},
   "outputs": [
    {
     "data": {
      "text/plain": [
       "<matplotlib.text.Text at 0x10da090b8>"
      ]
     },
     "execution_count": 94,
     "metadata": {},
     "output_type": "execute_result"
    },
    {
     "data": {
      "image/png": "[encoded data removed]",
      "text/plain": [
       "<matplotlib.figure.Figure at 0x10d5c8cf8>"
      ]
     },
     "metadata": {},
     "output_type": "display_data"
    }
   ],
   "source": [
    "plt.plot(clusters, meandist)\n",
    "plt.xlabel('Number of clusters')\n",
    "plt.ylabel('Average distance')\n",
    "plt.title('Selecting k with the Elbow Method')"
   ]
  },
  {
   "cell_type": "markdown",
   "metadata": {
    "collapsed": true
   },
   "source": [
    "So what this plot shows is the decrease in the average minimum distance of the observations from the cluster centroids for each of the cluster solutions. We can see that the average distance decreases as the number of clusters increases. Since the goal of cluster analysis is to minimize the distance between observations and their assigned clusters we want to chose the fewest numbers of clusters that provides a low average distance. What we’re looking for in this plot is a bend in the elbow that kind of shows where the average distance value might be leveling off such that adding more clusters doesn’t decrease the average distance as much.\n",
    "We can see there appears to be a couple of bends at the line at two clusters and at three clusters, but it’s not very clear. To help us figure out which of the solutions is best we should further examine the cluster solutions for at least the two and three cluster solutions to see whether they do not overlap, whether the patterns of means on the clustering variables are unique and meaningful, and whether there are significant differences between the clusters on our external validation variable “breastcancerper100th”. "
   ]
  },
  {
   "cell_type": "markdown",
   "metadata": {},
   "source": [
    "## Interpret 3 cluster solution"
   ]
  },
  {
   "cell_type": "code",
   "execution_count": 116,
   "metadata": {
    "collapsed": true
   },
   "outputs": [],
   "source": [
    "cluster_scale = cluster_scaled.copy()\n",
    "km3=KMeans(n_clusters=3).fit(cluster_scale)\n",
    "clusassign=km3.predict(cluster_scale)"
   ]
  },
  {
   "cell_type": "code",
   "execution_count": 117,
   "metadata": {},
   "outputs": [
    {
     "data": {
      "image/png": "[encoded data removed]",
      "text/plain": [
       "<matplotlib.figure.Figure at 0x10dadd828>"
      ]
     },
     "metadata": {},
     "output_type": "display_data"
    }
   ],
   "source": [
    "# plot clusters\n",
    "pca_2 = PCA(2)\n",
    "plot_columns = pca_2.fit_transform(cluster_scale)\n",
    "plt.scatter(x=plot_columns[:,0], y=plot_columns[:,1], c=km3.labels_,)\n",
    "plt.xlabel('Canonical variable 1')\n",
    "plt.ylabel('Canonical variable 2')\n",
    "plt.title('Scatterplot of Canonical Variables for 3 Clusters')\n",
    "plt.show()"
   ]
  },
  {
   "cell_type": "markdown",
   "metadata": {},
   "source": [
    "This scatter plot indicates that the clusters are not densely packed and they did not overlap very much each other, which means the observations within the clusters are not highly correlated, and there is a high variance between clusters."
   ]
  },
  {
   "cell_type": "markdown",
   "metadata": {},
   "source": [
    "## Merge cluster assignment with clustering variables"
   ]
  },
  {
   "cell_type": "code",
   "execution_count": 118,
   "metadata": {
    "collapsed": true
   },
   "outputs": [],
   "source": [
    "# create a unique identifier variable from the index for the \n",
    "# cluster training data to merge with the cluster assignment variable\n",
    "cluster_scale.reset_index(level=0, inplace=True)\n",
    "# create a list that has the new index variable\n",
    "cluslist=list(cluster_scale['index'])\n",
    "# create a list of cluster assignments\n",
    "labels=list(km3.labels_)\n",
    "# combine index variable list with cluster assignment list into a dictionary\n",
    "newlist=dict(zip(cluslist, labels))\n",
    "#newlist"
   ]
  },
  {
   "cell_type": "code",
   "execution_count": 119,
   "metadata": {},
   "outputs": [
    {
     "data": {
      "text/plain": [
       "159"
      ]
     },
     "execution_count": 119,
     "metadata": {},
     "output_type": "execute_result"
    }
   ],
   "source": [
    "# convert newlist dictionary to a dataframe\n",
    "newclus=DataFrame.from_dict(newlist, orient='index')\n",
    "len(newclus)"
   ]
  },
  {
   "cell_type": "code",
   "execution_count": 120,
   "metadata": {},
   "outputs": [
    {
     "data": {
      "text/html": [
       "<div>\n",
       "<table border=\"1\" class=\"dataframe\">\n",
       "  <thead>\n",
       "    <tr style=\"text-align: right;\">\n",
       "      <th></th>\n",
       "      <th>cluster</th>\n",
       "    </tr>\n",
       "  </thead>\n",
       "  <tbody>\n",
       "    <tr>\n",
       "      <th>0</th>\n",
       "      <td>1</td>\n",
       "    </tr>\n",
       "    <tr>\n",
       "      <th>1</th>\n",
       "      <td>1</td>\n",
       "    </tr>\n",
       "    <tr>\n",
       "      <th>2</th>\n",
       "      <td>0</td>\n",
       "    </tr>\n",
       "    <tr>\n",
       "      <th>3</th>\n",
       "      <td>2</td>\n",
       "    </tr>\n",
       "    <tr>\n",
       "      <th>4</th>\n",
       "      <td>1</td>\n",
       "    </tr>\n",
       "  </tbody>\n",
       "</table>\n",
       "</div>"
      ],
      "text/plain": [
       "   cluster\n",
       "0        1\n",
       "1        1\n",
       "2        0\n",
       "3        2\n",
       "4        1"
      ]
     },
     "execution_count": 120,
     "metadata": {},
     "output_type": "execute_result"
    }
   ],
   "source": [
    "# rename the cluster assignment column\n",
    "newclus.columns = ['cluster']\n",
    "newclus.head()"
   ]
  },
  {
   "cell_type": "code",
   "execution_count": 121,
   "metadata": {},
   "outputs": [
    {
     "data": {
      "text/html": [
       "<div>\n",
       "<table border=\"1\" class=\"dataframe\">\n",
       "  <thead>\n",
       "    <tr style=\"text-align: right;\">\n",
       "      <th></th>\n",
       "      <th>index</th>\n",
       "      <th>alcconsumption</th>\n",
       "      <th>co2emissions</th>\n",
       "      <th>femaleemployrate</th>\n",
       "      <th>incomeperperson</th>\n",
       "      <th>lifeexpectancy</th>\n",
       "      <th>cluster</th>\n",
       "    </tr>\n",
       "  </thead>\n",
       "  <tbody>\n",
       "    <tr>\n",
       "      <th>0</th>\n",
       "      <td>0</td>\n",
       "      <td>0.085443</td>\n",
       "      <td>-0.209789</td>\n",
       "      <td>-0.393726</td>\n",
       "      <td>-0.512245</td>\n",
       "      <td>0.759509</td>\n",
       "      <td>1</td>\n",
       "    </tr>\n",
       "    <tr>\n",
       "      <th>1</th>\n",
       "      <td>1</td>\n",
       "      <td>-1.233916</td>\n",
       "      <td>-0.115304</td>\n",
       "      <td>-1.095834</td>\n",
       "      <td>-0.482125</td>\n",
       "      <td>0.373870</td>\n",
       "      <td>1</td>\n",
       "    </tr>\n",
       "    <tr>\n",
       "      <th>2</th>\n",
       "      <td>2</td>\n",
       "      <td>-0.258390</td>\n",
       "      <td>-0.208931</td>\n",
       "      <td>1.449308</td>\n",
       "      <td>-0.562982</td>\n",
       "      <td>-1.870308</td>\n",
       "      <td>0</td>\n",
       "    </tr>\n",
       "    <tr>\n",
       "      <th>3</th>\n",
       "      <td>3</td>\n",
       "      <td>0.497243</td>\n",
       "      <td>-0.012738</td>\n",
       "      <td>-0.137186</td>\n",
       "      <td>0.327155</td>\n",
       "      <td>0.655946</td>\n",
       "      <td>2</td>\n",
       "    </tr>\n",
       "    <tr>\n",
       "      <th>4</th>\n",
       "      <td>4</td>\n",
       "      <td>1.358824</td>\n",
       "      <td>-0.215808</td>\n",
       "      <td>-0.927058</td>\n",
       "      <td>-0.568137</td>\n",
       "      <td>0.486904</td>\n",
       "      <td>1</td>\n",
       "    </tr>\n",
       "    <tr>\n",
       "      <th>5</th>\n",
       "      <td>5</td>\n",
       "      <td>0.669159</td>\n",
       "      <td>0.234885</td>\n",
       "      <td>0.450154</td>\n",
       "      <td>1.704922</td>\n",
       "      <td>1.267550</td>\n",
       "      <td>2</td>\n",
       "    </tr>\n",
       "    <tr>\n",
       "      <th>6</th>\n",
       "      <td>6</td>\n",
       "      <td>1.106947</td>\n",
       "      <td>-0.061789</td>\n",
       "      <td>0.119353</td>\n",
       "      <td>1.842028</td>\n",
       "      <td>1.160321</td>\n",
       "      <td>2</td>\n",
       "    </tr>\n",
       "    <tr>\n",
       "      <th>7</th>\n",
       "      <td>7</td>\n",
       "      <td>1.294855</td>\n",
       "      <td>-0.199764</td>\n",
       "      <td>0.558171</td>\n",
       "      <td>-0.471398</td>\n",
       "      <td>0.130288</td>\n",
       "      <td>2</td>\n",
       "    </tr>\n",
       "    <tr>\n",
       "      <th>8</th>\n",
       "      <td>8</td>\n",
       "      <td>0.357311</td>\n",
       "      <td>-0.212796</td>\n",
       "      <td>0.861968</td>\n",
       "      <td>1.170992</td>\n",
       "      <td>0.627331</td>\n",
       "      <td>2</td>\n",
       "    </tr>\n",
       "    <tr>\n",
       "      <th>9</th>\n",
       "      <td>9</td>\n",
       "      <td>-0.534256</td>\n",
       "      <td>-0.200012</td>\n",
       "      <td>-1.197099</td>\n",
       "      <td>0.493981</td>\n",
       "      <td>0.569999</td>\n",
       "      <td>1</td>\n",
       "    </tr>\n",
       "  </tbody>\n",
       "</table>\n",
       "</div>"
      ],
      "text/plain": [
       "   index  alcconsumption  co2emissions  femaleemployrate  incomeperperson  \\\n",
       "0      0        0.085443     -0.209789         -0.393726        -0.512245   \n",
       "1      1       -1.233916     -0.115304         -1.095834        -0.482125   \n",
       "2      2       -0.258390     -0.208931          1.449308        -0.562982   \n",
       "3      3        0.497243     -0.012738         -0.137186         0.327155   \n",
       "4      4        1.358824     -0.215808         -0.927058        -0.568137   \n",
       "5      5        0.669159      0.234885          0.450154         1.704922   \n",
       "6      6        1.106947     -0.061789          0.119353         1.842028   \n",
       "7      7        1.294855     -0.199764          0.558171        -0.471398   \n",
       "8      8        0.357311     -0.212796          0.861968         1.170992   \n",
       "9      9       -0.534256     -0.200012         -1.197099         0.493981   \n",
       "\n",
       "   lifeexpectancy  cluster  \n",
       "0        0.759509        1  \n",
       "1        0.373870        1  \n",
       "2       -1.870308        0  \n",
       "3        0.655946        2  \n",
       "4        0.486904        1  \n",
       "5        1.267550        2  \n",
       "6        1.160321        2  \n",
       "7        0.130288        2  \n",
       "8        0.627331        2  \n",
       "9        0.569999        1  "
      ]
     },
     "execution_count": 121,
     "metadata": {},
     "output_type": "execute_result"
    }
   ],
   "source": [
    "# now do the same for the cluster assignment variable\n",
    "# create a unique identifier variable from the index for the \n",
    "# cluster assignment dataframe to merge with cluster training data\n",
    "newclus.reset_index(level=0, inplace=True)\n",
    "\n",
    "# merge the cluster assignment dataframe with the cluster training variable dataframe\n",
    "# by the index variable\n",
    "merged_train=pd.merge(cluster_scale, newclus, on='index')\n",
    "merged_train.head(n=10)"
   ]
  },
  {
   "cell_type": "markdown",
   "metadata": {},
   "source": [
    "## Cluster frequencies"
   ]
  },
  {
   "cell_type": "code",
   "execution_count": 122,
   "metadata": {},
   "outputs": [
    {
     "data": {
      "text/plain": [
       "0    56\n",
       "1    54\n",
       "2    49\n",
       "Name: cluster, dtype: int64"
      ]
     },
     "execution_count": 122,
     "metadata": {},
     "output_type": "execute_result"
    }
   ],
   "source": [
    "merged_train.cluster.value_counts()"
   ]
  },
  {
   "cell_type": "markdown",
   "metadata": {},
   "source": [
    "## END multiple steps to merge cluster assignment with clustering variables to examine cluster variable means by cluster"
   ]
  },
  {
   "cell_type": "code",
   "execution_count": 123,
   "metadata": {},
   "outputs": [
    {
     "name": "stdout",
     "output_type": "stream",
     "text": [
      "Clustering variable means by cluster\n"
     ]
    },
    {
     "data": {
      "text/html": [
       "<div>\n",
       "<table border=\"1\" class=\"dataframe\">\n",
       "  <thead>\n",
       "    <tr style=\"text-align: right;\">\n",
       "      <th></th>\n",
       "      <th>index</th>\n",
       "      <th>alcconsumption</th>\n",
       "      <th>co2emissions</th>\n",
       "      <th>femaleemployrate</th>\n",
       "      <th>incomeperperson</th>\n",
       "      <th>lifeexpectancy</th>\n",
       "    </tr>\n",
       "    <tr>\n",
       "      <th>cluster</th>\n",
       "      <th></th>\n",
       "      <th></th>\n",
       "      <th></th>\n",
       "      <th></th>\n",
       "      <th></th>\n",
       "      <th></th>\n",
       "    </tr>\n",
       "  </thead>\n",
       "  <tbody>\n",
       "    <tr>\n",
       "      <th>0</th>\n",
       "      <td>84.107143</td>\n",
       "      <td>-0.393325</td>\n",
       "      <td>-0.196759</td>\n",
       "      <td>0.735506</td>\n",
       "      <td>-0.598867</td>\n",
       "      <td>-1.075071</td>\n",
       "    </tr>\n",
       "    <tr>\n",
       "      <th>1</th>\n",
       "      <td>75.537037</td>\n",
       "      <td>-0.490611</td>\n",
       "      <td>-0.142772</td>\n",
       "      <td>-0.910055</td>\n",
       "      <td>-0.314644</td>\n",
       "      <td>0.342144</td>\n",
       "    </tr>\n",
       "    <tr>\n",
       "      <th>2</th>\n",
       "      <td>76.979592</td>\n",
       "      <td>0.990187</td>\n",
       "      <td>0.382208</td>\n",
       "      <td>0.162340</td>\n",
       "      <td>1.031170</td>\n",
       "      <td>0.851596</td>\n",
       "    </tr>\n",
       "  </tbody>\n",
       "</table>\n",
       "</div>"
      ],
      "text/plain": [
       "             index  alcconsumption  co2emissions  femaleemployrate  \\\n",
       "cluster                                                              \n",
       "0        84.107143       -0.393325     -0.196759          0.735506   \n",
       "1        75.537037       -0.490611     -0.142772         -0.910055   \n",
       "2        76.979592        0.990187      0.382208          0.162340   \n",
       "\n",
       "         incomeperperson  lifeexpectancy  \n",
       "cluster                                   \n",
       "0              -0.598867       -1.075071  \n",
       "1              -0.314644        0.342144  \n",
       "2               1.031170        0.851596  "
      ]
     },
     "execution_count": 123,
     "metadata": {},
     "output_type": "execute_result"
    }
   ],
   "source": [
    "# FINALLY calculate clustering variable means by cluster\n",
    "clustergrp = merged_train.groupby('cluster').mean()\n",
    "print (\"Clustering variable means by cluster\")\n",
    "clustergrp"
   ]
  },
  {
   "cell_type": "markdown",
   "metadata": {
    "collapsed": true
   },
   "source": [
    "## Validate clusters in training data"
   ]
  },
  {
   "cell_type": "code",
   "execution_count": null,
   "metadata": {},
   "outputs": [],
   "source": []
  },
  {
   "cell_type": "code",
   "execution_count": 124,
   "metadata": {
    "collapsed": true
   },
   "outputs": [],
   "source": [
    "# validate clusters by examining cluster differences in breastcanerper100th using ANOVA\n",
    "# first have to merge breast cancer with clustering variables and cluster assignment data \n",
    "bc100_data=dfgm['breastcancerper100th']"
   ]
  },
  {
   "cell_type": "code",
   "execution_count": 125,
   "metadata": {
    "collapsed": true
   },
   "outputs": [],
   "source": [
    "# split GPA data into train and test sets\n",
    "bc100_train, bc100_test = train_test_split(bc100_data, test_size=.3, random_state=42)\n",
    "bc100_train1=pd.DataFrame(bc100_train)\n"
   ]
  },
  {
   "cell_type": "code",
   "execution_count": 126,
   "metadata": {},
   "outputs": [
    {
     "data": {
      "text/plain": [
       "149"
      ]
     },
     "execution_count": 126,
     "metadata": {},
     "output_type": "execute_result"
    }
   ],
   "source": [
    "len(bc100_train1)"
   ]
  },
  {
   "cell_type": "code",
   "execution_count": 127,
   "metadata": {},
   "outputs": [
    {
     "data": {
      "text/plain": [
       "114"
      ]
     },
     "execution_count": 127,
     "metadata": {},
     "output_type": "execute_result"
    }
   ],
   "source": [
    "bc100_train1.reset_index(level=0, inplace=True)\n",
    "merged_train_all=pd.merge(bc100_train1, merged_train, on='index')\n",
    "len(merged_train_all)"
   ]
  },
  {
   "cell_type": "code",
   "execution_count": 128,
   "metadata": {
    "collapsed": true
   },
   "outputs": [],
   "source": [
    "sub = merged_train_all[['breastcancerper100th', 'cluster']].dropna()"
   ]
  },
  {
   "cell_type": "code",
   "execution_count": 129,
   "metadata": {},
   "outputs": [
    {
     "data": {
      "text/plain": [
       "dtype('int64')"
      ]
     },
     "execution_count": 129,
     "metadata": {},
     "output_type": "execute_result"
    }
   ],
   "source": [
    "sub.cluster.dtype"
   ]
  },
  {
   "cell_type": "code",
   "execution_count": 130,
   "metadata": {
    "collapsed": true
   },
   "outputs": [],
   "source": [
    "bcmod = smf.ols(formula='breastcancerper100th ~ C(cluster)', data=sub).fit()"
   ]
  },
  {
   "cell_type": "code",
   "execution_count": 131,
   "metadata": {},
   "outputs": [
    {
     "data": {
      "text/html": [
       "<table class=\"simpletable\">\n",
       "<caption>OLS Regression Results</caption>\n",
       "<tr>\n",
       "  <th>Dep. Variable:</th>    <td>breastcancerper100th</td> <th>  R-squared:         </th> <td>   0.006</td>\n",
       "</tr>\n",
       "<tr>\n",
       "  <th>Model:</th>                     <td>OLS</td>         <th>  Adj. R-squared:    </th> <td>  -0.016</td>\n",
       "</tr>\n",
       "<tr>\n",
       "  <th>Method:</th>               <td>Least Squares</td>    <th>  F-statistic:       </th> <td>  0.2565</td>\n",
       "</tr>\n",
       "<tr>\n",
       "  <th>Date:</th>               <td>Tue, 13 Jun 2017</td>   <th>  Prob (F-statistic):</th>  <td> 0.774</td> \n",
       "</tr>\n",
       "<tr>\n",
       "  <th>Time:</th>                   <td>01:07:00</td>       <th>  Log-Likelihood:    </th> <td> -425.79</td>\n",
       "</tr>\n",
       "<tr>\n",
       "  <th>No. Observations:</th>        <td>    94</td>        <th>  AIC:               </th> <td>   857.6</td>\n",
       "</tr>\n",
       "<tr>\n",
       "  <th>Df Residuals:</th>            <td>    91</td>        <th>  BIC:               </th> <td>   865.2</td>\n",
       "</tr>\n",
       "<tr>\n",
       "  <th>Df Model:</th>                <td>     2</td>        <th>                     </th>     <td> </td>   \n",
       "</tr>\n",
       "<tr>\n",
       "  <th>Covariance Type:</th>        <td>nonrobust</td>      <th>                     </th>     <td> </td>   \n",
       "</tr>\n",
       "</table>\n",
       "<table class=\"simpletable\">\n",
       "<tr>\n",
       "         <td></td>            <th>coef</th>     <th>std err</th>      <th>t</th>      <th>P>|t|</th>  <th>[0.025</th>    <th>0.975]</th>  \n",
       "</tr>\n",
       "<tr>\n",
       "  <th>Intercept</th>       <td>   39.4424</td> <td>    3.970</td> <td>    9.936</td> <td> 0.000</td> <td>   31.557</td> <td>   47.328</td>\n",
       "</tr>\n",
       "<tr>\n",
       "  <th>C(cluster)[T.1]</th> <td>   -2.1042</td> <td>    5.573</td> <td>   -0.378</td> <td> 0.707</td> <td>  -13.174</td> <td>    8.965</td>\n",
       "</tr>\n",
       "<tr>\n",
       "  <th>C(cluster)[T.2]</th> <td>   -4.2313</td> <td>    5.918</td> <td>   -0.715</td> <td> 0.476</td> <td>  -15.986</td> <td>    7.524</td>\n",
       "</tr>\n",
       "</table>\n",
       "<table class=\"simpletable\">\n",
       "<tr>\n",
       "  <th>Omnibus:</th>       <td>13.770</td> <th>  Durbin-Watson:     </th> <td>   2.401</td>\n",
       "</tr>\n",
       "<tr>\n",
       "  <th>Prob(Omnibus):</th> <td> 0.001</td> <th>  Jarque-Bera (JB):  </th> <td>  15.810</td>\n",
       "</tr>\n",
       "<tr>\n",
       "  <th>Skew:</th>          <td> 1.002</td> <th>  Prob(JB):          </th> <td>0.000369</td>\n",
       "</tr>\n",
       "<tr>\n",
       "  <th>Kurtosis:</th>      <td> 3.134</td> <th>  Cond. No.          </th> <td>    3.66</td>\n",
       "</tr>\n",
       "</table>"
      ],
      "text/plain": [
       "<class 'statsmodels.iolib.summary.Summary'>\n",
       "\"\"\"\n",
       "                             OLS Regression Results                             \n",
       "================================================================================\n",
       "Dep. Variable:     breastcancerper100th   R-squared:                       0.006\n",
       "Model:                              OLS   Adj. R-squared:                 -0.016\n",
       "Method:                   Least Squares   F-statistic:                    0.2565\n",
       "Date:                  Tue, 13 Jun 2017   Prob (F-statistic):              0.774\n",
       "Time:                          01:07:00   Log-Likelihood:                -425.79\n",
       "No. Observations:                    94   AIC:                             857.6\n",
       "Df Residuals:                        91   BIC:                             865.2\n",
       "Df Model:                             2                                         \n",
       "Covariance Type:              nonrobust                                         \n",
       "===================================================================================\n",
       "                      coef    std err          t      P>|t|      [0.025      0.975]\n",
       "-----------------------------------------------------------------------------------\n",
       "Intercept          39.4424      3.970      9.936      0.000      31.557      47.328\n",
       "C(cluster)[T.1]    -2.1042      5.573     -0.378      0.707     -13.174       8.965\n",
       "C(cluster)[T.2]    -4.2313      5.918     -0.715      0.476     -15.986       7.524\n",
       "==============================================================================\n",
       "Omnibus:                       13.770   Durbin-Watson:                   2.401\n",
       "Prob(Omnibus):                  0.001   Jarque-Bera (JB):               15.810\n",
       "Skew:                           1.002   Prob(JB):                     0.000369\n",
       "Kurtosis:                       3.134   Cond. No.                         3.66\n",
       "==============================================================================\n",
       "\n",
       "Warnings:\n",
       "[1] Standard Errors assume that the covariance matrix of the errors is correctly specified.\n",
       "\"\"\""
      ]
     },
     "execution_count": 131,
     "metadata": {},
     "output_type": "execute_result"
    }
   ],
   "source": [
    "bcmod.summary()"
   ]
  },
  {
   "cell_type": "code",
   "execution_count": 132,
   "metadata": {},
   "outputs": [
    {
     "name": "stdout",
     "output_type": "stream",
     "text": [
      "means for breast cancer by cluster\n"
     ]
    },
    {
     "data": {
      "text/html": [
       "<div>\n",
       "<table border=\"1\" class=\"dataframe\">\n",
       "  <thead>\n",
       "    <tr style=\"text-align: right;\">\n",
       "      <th></th>\n",
       "      <th>breastcancerper100th</th>\n",
       "    </tr>\n",
       "    <tr>\n",
       "      <th>cluster</th>\n",
       "      <th></th>\n",
       "    </tr>\n",
       "  </thead>\n",
       "  <tbody>\n",
       "    <tr>\n",
       "      <th>0</th>\n",
       "      <td>39.442424</td>\n",
       "    </tr>\n",
       "    <tr>\n",
       "      <th>1</th>\n",
       "      <td>37.338235</td>\n",
       "    </tr>\n",
       "    <tr>\n",
       "      <th>2</th>\n",
       "      <td>35.211111</td>\n",
       "    </tr>\n",
       "  </tbody>\n",
       "</table>\n",
       "</div>"
      ],
      "text/plain": [
       "         breastcancerper100th\n",
       "cluster                      \n",
       "0                   39.442424\n",
       "1                   37.338235\n",
       "2                   35.211111"
      ]
     },
     "execution_count": 132,
     "metadata": {},
     "output_type": "execute_result"
    }
   ],
   "source": [
    "print ('means for breast cancer by cluster')\n",
    "m1= sub.groupby('cluster').mean()\n",
    "m1"
   ]
  },
  {
   "cell_type": "code",
   "execution_count": 133,
   "metadata": {},
   "outputs": [
    {
     "name": "stdout",
     "output_type": "stream",
     "text": [
      "standard deviations for breast cancer by cluster\n"
     ]
    },
    {
     "data": {
      "text/html": [
       "<div>\n",
       "<table border=\"1\" class=\"dataframe\">\n",
       "  <thead>\n",
       "    <tr style=\"text-align: right;\">\n",
       "      <th></th>\n",
       "      <th>breastcancerper100th</th>\n",
       "    </tr>\n",
       "    <tr>\n",
       "      <th>cluster</th>\n",
       "      <th></th>\n",
       "    </tr>\n",
       "  </thead>\n",
       "  <tbody>\n",
       "    <tr>\n",
       "      <th>0</th>\n",
       "      <td>23.876689</td>\n",
       "    </tr>\n",
       "    <tr>\n",
       "      <th>1</th>\n",
       "      <td>22.905551</td>\n",
       "    </tr>\n",
       "    <tr>\n",
       "      <th>2</th>\n",
       "      <td>21.273934</td>\n",
       "    </tr>\n",
       "  </tbody>\n",
       "</table>\n",
       "</div>"
      ],
      "text/plain": [
       "         breastcancerper100th\n",
       "cluster                      \n",
       "0                   23.876689\n",
       "1                   22.905551\n",
       "2                   21.273934"
      ]
     },
     "execution_count": 133,
     "metadata": {},
     "output_type": "execute_result"
    }
   ],
   "source": [
    "print ('standard deviations for breast cancer by cluster')\n",
    "m2= sub.groupby('cluster').std()\n",
    "m2"
   ]
  },
  {
   "cell_type": "code",
   "execution_count": 134,
   "metadata": {},
   "outputs": [
    {
     "data": {
      "text/html": [
       "<table class=\"simpletable\">\n",
       "<caption>Multiple Comparison of Means - Tukey HSD,FWER=0.05</caption>\n",
       "<tr>\n",
       "  <th>group1</th> <th>group2</th> <th>meandiff</th>   <th>lower</th>   <th>upper</th>  <th>reject</th>\n",
       "</tr>\n",
       "<tr>\n",
       "     <td>0</td>      <td>1</td>    <td>-2.1042</td> <td>-15.3825</td> <td>11.1741</td>  <td>False</td>\n",
       "</tr>\n",
       "<tr>\n",
       "     <td>0</td>      <td>2</td>    <td>-4.2313</td> <td>-18.3319</td> <td>9.8693</td>   <td>False</td>\n",
       "</tr>\n",
       "<tr>\n",
       "     <td>1</td>      <td>2</td>    <td>-2.1271</td> <td>-16.1341</td> <td>11.8799</td>  <td>False</td>\n",
       "</tr>\n",
       "</table>"
      ],
      "text/plain": [
       "<class 'statsmodels.iolib.table.SimpleTable'>"
      ]
     },
     "execution_count": 134,
     "metadata": {},
     "output_type": "execute_result"
    }
   ],
   "source": [
    "mc1 = multi.MultiComparison(sub['breastcancerper100th'], sub['cluster'])\n",
    "res1 = mc1.tukeyhsd()\n",
    "res1.summary()"
   ]
  },
  {
   "cell_type": "markdown",
   "metadata": {},
   "source": [
    "## Data Analysis:"
   ]
  },
  {
   "cell_type": "markdown",
   "metadata": {},
   "source": [
    "Analysis:\n",
    "The means on the clustering variables showed that compared to the other clusters, countries in the second cluster, cluster 1, clearly includes countries more likely to have high incidence of breast cancer due to high levels of alcohol consumption and high rates of life expectancy. \n",
    "In order to externally validate the clusters, an Analysis of Variance (ANOVA) was conducting to test for significant differences between the clusters on breast cancer incidence. \n",
    "The tukey post hoc comparisons showed significant differences between clusters on breast cancer incidence, with the exception that clusters 0 and 1 were not significantly different from each other.  Countries in cluster 2 had the lowest breast cancer incidence (mean=35.21, sd=21.27), and cluster 0 had the highest (mean=39.44, sd=23.87)."
   ]
  },
  {
   "cell_type": "code",
   "execution_count": null,
   "metadata": {
    "collapsed": true
   },
   "outputs": [],
   "source": []
  }
 ],
 "metadata": {
  "kernelspec": {
   "display_name": "Python 3",
   "language": "python",
   "name": "python3"
  },
  "language_info": {
   "codemirror_mode": {
    "name": "ipython",
    "version": 3
   },
   "file_extension": ".py",
   "mimetype": "text/x-python",
   "name": "python",
   "nbconvert_exporter": "python",
   "pygments_lexer": "ipython3",
   "version": "3.6.1"
  }
 },
 "nbformat": 4,
 "nbformat_minor": 2
}
