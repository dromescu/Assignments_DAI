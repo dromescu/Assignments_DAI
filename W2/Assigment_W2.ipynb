{
 "cells": [
  {
   "cell_type": "markdown",
   "metadata": {},
   "source": [
    "# Running a Random Forest - Assignment Week 2"
   ]
  },
  {
   "cell_type": "markdown",
   "metadata": {},
   "source": [
    "To do's: The second assignment deals with Random Forests. Random forests are predictive models that allow for a data driven exploration of many explanatory variables in predicting a response or target variable. Random forests provide importance scores for each explanatory variable and also allow you to evaluate any increases in correct classification with the growing of smaller and larger number of trees.\n",
    "\n",
    "Run a Random Forest.\n",
    "\n",
    "You will need to perform a random forest analysis to evaluate the importance of a series of explanatory variables in predicting a binary, categorical response variable."
   ]
  },
  {
   "cell_type": "markdown",
   "metadata": {},
   "source": [
    "Random forest analysis was performed on gapminder.csv to evaluate importance of a series of explanatory variables in predicting a binary, categorical response variable. Random forests provide importance scores for each explanatory variable and also allow us to evaluate any increases in correct classification with the growing of smaller and larger number of trees.\n",
    "The following explanatory variables were included as possible contributors to a random forest to evaluate my response variable breast cancer incidence (moderate/strong): income per person, alcohol consumption, CO2 emissions, female employ rate, life expectancy and urban rate."
   ]
  },
  {
   "cell_type": "code",
   "execution_count": 206,
   "metadata": {
    "collapsed": true
   },
   "outputs": [],
   "source": [
    "from pandas import Series, DataFrame\n",
    "import pandas as pd\n",
    "import numpy as np\n",
    "import matplotlib.pylab as plt\n",
    "from sklearn.model_selection import train_test_split\n",
    "from sklearn.tree import DecisionTreeClassifier\n",
    "from sklearn.metrics import confusion_matrix, accuracy_score, classification_report"
   ]
  },
  {
   "cell_type": "markdown",
   "metadata": {},
   "source": [
    "## Load Feature Importance"
   ]
  },
  {
   "cell_type": "code",
   "execution_count": 207,
   "metadata": {
    "collapsed": true
   },
   "outputs": [],
   "source": [
    "from sklearn import datasets\n",
    "from sklearn.ensemble import ExtraTreesClassifier"
   ]
  },
  {
   "cell_type": "markdown",
   "metadata": {},
   "source": [
    "## Build model on training data\n"
   ]
  },
  {
   "cell_type": "code",
   "execution_count": 208,
   "metadata": {
    "collapsed": true
   },
   "outputs": [],
   "source": [
    "from sklearn.ensemble import RandomForestClassifier"
   ]
  },
  {
   "cell_type": "markdown",
   "metadata": {},
   "source": [
    "## Data Management: Loading the GapMinder dataset "
   ]
  },
  {
   "cell_type": "code",
   "execution_count": 209,
   "metadata": {
    "collapsed": true
   },
   "outputs": [],
   "source": [
    "def primary_clean(df, nan_subset = []):\n",
    "    df = df.rename(columns=lambda x: x.strip()) #remove whitespaces from headers\n",
    "    #delete all column with just NaN\n",
    "    df = df.dropna(axis=1, how='all')\n",
    "    #drop duplicates\n",
    "    df = df.drop_duplicates()\n",
    "    #drop compliance = NaN\n",
    "    df = df.dropna(subset=nan_subset)\n",
    "    #convert to numeric our objects\n",
    "    df[nan_subset] = df[nan_subset].apply(pd.to_numeric, errors='coerce')\n",
    "    return df"
   ]
  },
  {
   "cell_type": "code",
   "execution_count": 210,
   "metadata": {},
   "outputs": [],
   "source": [
    "dfgm = pd.read_csv('gapminder.csv')"
   ]
  },
  {
   "cell_type": "code",
   "execution_count": 247,
   "metadata": {},
   "outputs": [
    {
     "data": {
      "text/plain": [
       "country                  object\n",
       "incomeperperson         float64\n",
       "alcconsumption          float64\n",
       "armedforcesrate          object\n",
       "breastcancerper100th    float64\n",
       "co2emissions            float64\n",
       "femaleemployrate        float64\n",
       "hivrate                  object\n",
       "internetuserate          object\n",
       "lifeexpectancy          float64\n",
       "oilperperson             object\n",
       "polityscore              object\n",
       "relectricperperson       object\n",
       "suicideper100th          object\n",
       "employrate               object\n",
       "urbanrate               float64\n",
       "breastcategories        float64\n",
       "dtype: object"
      ]
     },
     "execution_count": 247,
     "metadata": {},
     "output_type": "execute_result"
    }
   ],
   "source": [
    "dfgm.dtypes"
   ]
  },
  {
   "cell_type": "markdown",
   "metadata": {},
   "source": [
    "## Set my Features"
   ]
  },
  {
   "cell_type": "code",
   "execution_count": 248,
   "metadata": {
    "collapsed": true
   },
   "outputs": [],
   "source": [
    "#features to be convert to numeric\n",
    "predictors = ['incomeperperson', \n",
    "                      'alcconsumption', 'co2emissions', 'femaleemployrate', 'lifeexpectancy', 'urbanrate']\n",
    "other = ['breastcancerper100th']"
   ]
  },
  {
   "cell_type": "code",
   "execution_count": 249,
   "metadata": {},
   "outputs": [],
   "source": [
    "other.extend(predictors)\n",
    "dfgm = primary_clean(dfgm, other)"
   ]
  },
  {
   "cell_type": "code",
   "execution_count": 250,
   "metadata": {},
   "outputs": [
    {
     "data": {
      "text/plain": [
       "country                  object\n",
       "incomeperperson         float64\n",
       "alcconsumption          float64\n",
       "armedforcesrate          object\n",
       "breastcancerper100th    float64\n",
       "co2emissions            float64\n",
       "femaleemployrate        float64\n",
       "hivrate                  object\n",
       "internetuserate          object\n",
       "lifeexpectancy          float64\n",
       "oilperperson             object\n",
       "polityscore              object\n",
       "relectricperperson       object\n",
       "suicideper100th          object\n",
       "employrate               object\n",
       "urbanrate               float64\n",
       "breastcategories        float64\n",
       "dtype: object"
      ]
     },
     "execution_count": 250,
     "metadata": {},
     "output_type": "execute_result"
    }
   ],
   "source": [
    "dfgm.dtypes"
   ]
  },
  {
   "cell_type": "code",
   "execution_count": 251,
   "metadata": {},
   "outputs": [],
   "source": [
    "#grouping breast cancer(response variable) into 2 categories\n",
    "dfgm['breastcategories'] = pd.cut(dfgm['breastcancerper100th'], bins=[1, 40, 102], labels=False)\n",
    "labels = np.array('0_Moderate 1_Strong'.split())\n",
    "dfgm['breastcategories'] = pd.to_numeric(dfgm['breastcategories'], errors='coerce')"
   ]
  },
  {
   "cell_type": "code",
   "execution_count": 252,
   "metadata": {},
   "outputs": [
    {
     "data": {
      "text/html": [
       "<div>\n",
       "<table border=\"1\" class=\"dataframe\">\n",
       "  <thead>\n",
       "    <tr style=\"text-align: right;\">\n",
       "      <th></th>\n",
       "      <th>country</th>\n",
       "      <th>incomeperperson</th>\n",
       "      <th>alcconsumption</th>\n",
       "      <th>armedforcesrate</th>\n",
       "      <th>breastcancerper100th</th>\n",
       "      <th>co2emissions</th>\n",
       "      <th>femaleemployrate</th>\n",
       "      <th>hivrate</th>\n",
       "      <th>internetuserate</th>\n",
       "      <th>lifeexpectancy</th>\n",
       "      <th>oilperperson</th>\n",
       "      <th>polityscore</th>\n",
       "      <th>relectricperperson</th>\n",
       "      <th>suicideper100th</th>\n",
       "      <th>employrate</th>\n",
       "      <th>urbanrate</th>\n",
       "      <th>breastcategories</th>\n",
       "    </tr>\n",
       "  </thead>\n",
       "  <tbody>\n",
       "    <tr>\n",
       "      <th>1</th>\n",
       "      <td>Albania</td>\n",
       "      <td>1914.996551</td>\n",
       "      <td>7.29</td>\n",
       "      <td>1.0247361</td>\n",
       "      <td>57.4</td>\n",
       "      <td>2.237473e+08</td>\n",
       "      <td>42.099998</td>\n",
       "      <td></td>\n",
       "      <td>44.9899469578783</td>\n",
       "      <td>76.918</td>\n",
       "      <td></td>\n",
       "      <td>9</td>\n",
       "      <td>636.341383366604</td>\n",
       "      <td>7.69932985305786</td>\n",
       "      <td>51.4000015258789</td>\n",
       "      <td>46.72</td>\n",
       "      <td>1</td>\n",
       "    </tr>\n",
       "    <tr>\n",
       "      <th>2</th>\n",
       "      <td>Algeria</td>\n",
       "      <td>2231.993335</td>\n",
       "      <td>0.69</td>\n",
       "      <td>2.306817</td>\n",
       "      <td>23.5</td>\n",
       "      <td>2.932109e+09</td>\n",
       "      <td>31.700001</td>\n",
       "      <td>.1</td>\n",
       "      <td>12.5000733055148</td>\n",
       "      <td>73.131</td>\n",
       "      <td>.42009452521537</td>\n",
       "      <td>2</td>\n",
       "      <td>590.509814347428</td>\n",
       "      <td>4.8487696647644</td>\n",
       "      <td>50.5</td>\n",
       "      <td>65.22</td>\n",
       "      <td>0</td>\n",
       "    </tr>\n",
       "    <tr>\n",
       "      <th>4</th>\n",
       "      <td>Angola</td>\n",
       "      <td>1381.004268</td>\n",
       "      <td>5.57</td>\n",
       "      <td>1.4613288</td>\n",
       "      <td>23.1</td>\n",
       "      <td>2.483580e+08</td>\n",
       "      <td>69.400002</td>\n",
       "      <td>2</td>\n",
       "      <td>9.99995388324075</td>\n",
       "      <td>51.093</td>\n",
       "      <td></td>\n",
       "      <td>-2</td>\n",
       "      <td>172.999227388199</td>\n",
       "      <td>14.5546770095825</td>\n",
       "      <td>75.6999969482422</td>\n",
       "      <td>56.70</td>\n",
       "      <td>0</td>\n",
       "    </tr>\n",
       "    <tr>\n",
       "      <th>6</th>\n",
       "      <td>Argentina</td>\n",
       "      <td>10749.419238</td>\n",
       "      <td>9.35</td>\n",
       "      <td>.560987</td>\n",
       "      <td>73.9</td>\n",
       "      <td>5.872119e+09</td>\n",
       "      <td>45.900002</td>\n",
       "      <td>.5</td>\n",
       "      <td>36.0003349500148</td>\n",
       "      <td>75.901</td>\n",
       "      <td>.635943800978195</td>\n",
       "      <td>8</td>\n",
       "      <td>768.428299701347</td>\n",
       "      <td>7.765584</td>\n",
       "      <td>58.4000015258789</td>\n",
       "      <td>92.00</td>\n",
       "      <td>1</td>\n",
       "    </tr>\n",
       "    <tr>\n",
       "      <th>7</th>\n",
       "      <td>Armenia</td>\n",
       "      <td>1326.741757</td>\n",
       "      <td>13.66</td>\n",
       "      <td>2.6184384</td>\n",
       "      <td>51.6</td>\n",
       "      <td>5.121967e+07</td>\n",
       "      <td>34.200001</td>\n",
       "      <td>.1</td>\n",
       "      <td>44.0010245795602</td>\n",
       "      <td>74.241</td>\n",
       "      <td></td>\n",
       "      <td>5</td>\n",
       "      <td>603.763057563433</td>\n",
       "      <td>3.74158787727356</td>\n",
       "      <td>40.0999984741211</td>\n",
       "      <td>63.86</td>\n",
       "      <td>1</td>\n",
       "    </tr>\n",
       "  </tbody>\n",
       "</table>\n",
       "</div>"
      ],
      "text/plain": [
       "     country  incomeperperson  alcconsumption armedforcesrate  \\\n",
       "1    Albania      1914.996551            7.29       1.0247361   \n",
       "2    Algeria      2231.993335            0.69        2.306817   \n",
       "4     Angola      1381.004268            5.57       1.4613288   \n",
       "6  Argentina     10749.419238            9.35         .560987   \n",
       "7    Armenia      1326.741757           13.66       2.6184384   \n",
       "\n",
       "   breastcancerper100th  co2emissions  femaleemployrate hivrate  \\\n",
       "1                  57.4  2.237473e+08         42.099998           \n",
       "2                  23.5  2.932109e+09         31.700001      .1   \n",
       "4                  23.1  2.483580e+08         69.400002       2   \n",
       "6                  73.9  5.872119e+09         45.900002      .5   \n",
       "7                  51.6  5.121967e+07         34.200001      .1   \n",
       "\n",
       "    internetuserate  lifeexpectancy      oilperperson polityscore  \\\n",
       "1  44.9899469578783          76.918                             9   \n",
       "2  12.5000733055148          73.131   .42009452521537           2   \n",
       "4  9.99995388324075          51.093                            -2   \n",
       "6  36.0003349500148          75.901  .635943800978195           8   \n",
       "7  44.0010245795602          74.241                             5   \n",
       "\n",
       "  relectricperperson   suicideper100th        employrate  urbanrate  \\\n",
       "1   636.341383366604  7.69932985305786  51.4000015258789      46.72   \n",
       "2   590.509814347428   4.8487696647644              50.5      65.22   \n",
       "4   172.999227388199  14.5546770095825  75.6999969482422      56.70   \n",
       "6   768.428299701347          7.765584  58.4000015258789      92.00   \n",
       "7   603.763057563433  3.74158787727356  40.0999984741211      63.86   \n",
       "\n",
       "   breastcategories  \n",
       "1                 1  \n",
       "2                 0  \n",
       "4                 0  \n",
       "6                 1  \n",
       "7                 1  "
      ]
     },
     "execution_count": 252,
     "metadata": {},
     "output_type": "execute_result"
    }
   ],
   "source": [
    "dfgm.head()"
   ]
  },
  {
   "cell_type": "code",
   "execution_count": 253,
   "metadata": {},
   "outputs": [
    {
     "data": {
      "text/html": [
       "<div>\n",
       "<table border=\"1\" class=\"dataframe\">\n",
       "  <thead>\n",
       "    <tr style=\"text-align: right;\">\n",
       "      <th></th>\n",
       "      <th>country</th>\n",
       "      <th>incomeperperson</th>\n",
       "      <th>alcconsumption</th>\n",
       "      <th>armedforcesrate</th>\n",
       "      <th>breastcancerper100th</th>\n",
       "      <th>co2emissions</th>\n",
       "      <th>femaleemployrate</th>\n",
       "      <th>hivrate</th>\n",
       "      <th>internetuserate</th>\n",
       "      <th>lifeexpectancy</th>\n",
       "      <th>oilperperson</th>\n",
       "      <th>polityscore</th>\n",
       "      <th>relectricperperson</th>\n",
       "      <th>suicideper100th</th>\n",
       "      <th>employrate</th>\n",
       "      <th>urbanrate</th>\n",
       "      <th>breastcategories</th>\n",
       "    </tr>\n",
       "  </thead>\n",
       "  <tbody>\n",
       "    <tr>\n",
       "      <th>1</th>\n",
       "      <td>Albania</td>\n",
       "      <td>1914.996551</td>\n",
       "      <td>7.29</td>\n",
       "      <td>1.0247361</td>\n",
       "      <td>57.4</td>\n",
       "      <td>2.237473e+08</td>\n",
       "      <td>42.099998</td>\n",
       "      <td></td>\n",
       "      <td>44.9899469578783</td>\n",
       "      <td>76.918</td>\n",
       "      <td></td>\n",
       "      <td>9</td>\n",
       "      <td>636.341383366604</td>\n",
       "      <td>7.69932985305786</td>\n",
       "      <td>51.4000015258789</td>\n",
       "      <td>46.72</td>\n",
       "      <td>1</td>\n",
       "    </tr>\n",
       "    <tr>\n",
       "      <th>2</th>\n",
       "      <td>Algeria</td>\n",
       "      <td>2231.993335</td>\n",
       "      <td>0.69</td>\n",
       "      <td>2.306817</td>\n",
       "      <td>23.5</td>\n",
       "      <td>2.932109e+09</td>\n",
       "      <td>31.700001</td>\n",
       "      <td>.1</td>\n",
       "      <td>12.5000733055148</td>\n",
       "      <td>73.131</td>\n",
       "      <td>.42009452521537</td>\n",
       "      <td>2</td>\n",
       "      <td>590.509814347428</td>\n",
       "      <td>4.8487696647644</td>\n",
       "      <td>50.5</td>\n",
       "      <td>65.22</td>\n",
       "      <td>0</td>\n",
       "    </tr>\n",
       "    <tr>\n",
       "      <th>4</th>\n",
       "      <td>Angola</td>\n",
       "      <td>1381.004268</td>\n",
       "      <td>5.57</td>\n",
       "      <td>1.4613288</td>\n",
       "      <td>23.1</td>\n",
       "      <td>2.483580e+08</td>\n",
       "      <td>69.400002</td>\n",
       "      <td>2</td>\n",
       "      <td>9.99995388324075</td>\n",
       "      <td>51.093</td>\n",
       "      <td></td>\n",
       "      <td>-2</td>\n",
       "      <td>172.999227388199</td>\n",
       "      <td>14.5546770095825</td>\n",
       "      <td>75.6999969482422</td>\n",
       "      <td>56.70</td>\n",
       "      <td>0</td>\n",
       "    </tr>\n",
       "    <tr>\n",
       "      <th>6</th>\n",
       "      <td>Argentina</td>\n",
       "      <td>10749.419238</td>\n",
       "      <td>9.35</td>\n",
       "      <td>.560987</td>\n",
       "      <td>73.9</td>\n",
       "      <td>5.872119e+09</td>\n",
       "      <td>45.900002</td>\n",
       "      <td>.5</td>\n",
       "      <td>36.0003349500148</td>\n",
       "      <td>75.901</td>\n",
       "      <td>.635943800978195</td>\n",
       "      <td>8</td>\n",
       "      <td>768.428299701347</td>\n",
       "      <td>7.765584</td>\n",
       "      <td>58.4000015258789</td>\n",
       "      <td>92.00</td>\n",
       "      <td>1</td>\n",
       "    </tr>\n",
       "    <tr>\n",
       "      <th>7</th>\n",
       "      <td>Armenia</td>\n",
       "      <td>1326.741757</td>\n",
       "      <td>13.66</td>\n",
       "      <td>2.6184384</td>\n",
       "      <td>51.6</td>\n",
       "      <td>5.121967e+07</td>\n",
       "      <td>34.200001</td>\n",
       "      <td>.1</td>\n",
       "      <td>44.0010245795602</td>\n",
       "      <td>74.241</td>\n",
       "      <td></td>\n",
       "      <td>5</td>\n",
       "      <td>603.763057563433</td>\n",
       "      <td>3.74158787727356</td>\n",
       "      <td>40.0999984741211</td>\n",
       "      <td>63.86</td>\n",
       "      <td>1</td>\n",
       "    </tr>\n",
       "  </tbody>\n",
       "</table>\n",
       "</div>"
      ],
      "text/plain": [
       "     country  incomeperperson  alcconsumption armedforcesrate  \\\n",
       "1    Albania      1914.996551            7.29       1.0247361   \n",
       "2    Algeria      2231.993335            0.69        2.306817   \n",
       "4     Angola      1381.004268            5.57       1.4613288   \n",
       "6  Argentina     10749.419238            9.35         .560987   \n",
       "7    Armenia      1326.741757           13.66       2.6184384   \n",
       "\n",
       "   breastcancerper100th  co2emissions  femaleemployrate hivrate  \\\n",
       "1                  57.4  2.237473e+08         42.099998           \n",
       "2                  23.5  2.932109e+09         31.700001      .1   \n",
       "4                  23.1  2.483580e+08         69.400002       2   \n",
       "6                  73.9  5.872119e+09         45.900002      .5   \n",
       "7                  51.6  5.121967e+07         34.200001      .1   \n",
       "\n",
       "    internetuserate  lifeexpectancy      oilperperson polityscore  \\\n",
       "1  44.9899469578783          76.918                             9   \n",
       "2  12.5000733055148          73.131   .42009452521537           2   \n",
       "4  9.99995388324075          51.093                            -2   \n",
       "6  36.0003349500148          75.901  .635943800978195           8   \n",
       "7  44.0010245795602          74.241                             5   \n",
       "\n",
       "  relectricperperson   suicideper100th        employrate  urbanrate  \\\n",
       "1   636.341383366604  7.69932985305786  51.4000015258789      46.72   \n",
       "2   590.509814347428   4.8487696647644              50.5      65.22   \n",
       "4   172.999227388199  14.5546770095825  75.6999969482422      56.70   \n",
       "6   768.428299701347          7.765584  58.4000015258789      92.00   \n",
       "7   603.763057563433  3.74158787727356  40.0999984741211      63.86   \n",
       "\n",
       "   breastcategories  \n",
       "1                 1  \n",
       "2                 0  \n",
       "4                 0  \n",
       "6                 1  \n",
       "7                 1  "
      ]
     },
     "execution_count": 253,
     "metadata": {},
     "output_type": "execute_result"
    }
   ],
   "source": [
    "#Because analyses cannot handle any NA’s in our data set, my next step is to create a clean \n",
    "#data frame that drops all NA’s. \n",
    "dfgm_clean = dfgm.dropna()\n",
    "dfgm_clean.head()"
   ]
  },
  {
   "cell_type": "markdown",
   "metadata": {},
   "source": [
    "## Set Features Dataframe and Target"
   ]
  },
  {
   "cell_type": "code",
   "execution_count": 254,
   "metadata": {},
   "outputs": [],
   "source": [
    "dfpredict = dfgm_clean[predictors]\n",
    "targets = dfgm_clean.breastcategories"
   ]
  },
  {
   "cell_type": "code",
   "execution_count": 255,
   "metadata": {},
   "outputs": [
    {
     "name": "stdout",
     "output_type": "stream",
     "text": [
      "159 159\n"
     ]
    }
   ],
   "source": [
    "print(len(targets), len(dfgm_clean))"
   ]
  },
  {
   "cell_type": "markdown",
   "metadata": {},
   "source": [
    "## Set out training and test datasets"
   ]
  },
  {
   "cell_type": "code",
   "execution_count": 256,
   "metadata": {},
   "outputs": [],
   "source": [
    "#set the size ratio to 60% for the training sample and 40% for the test sample by indicating test_size=.4\n",
    "pred_train, pred_test, tar_train, tar_test  =   train_test_split(dfpredict, targets, test_size=.4)"
   ]
  },
  {
   "cell_type": "code",
   "execution_count": 257,
   "metadata": {},
   "outputs": [
    {
     "name": "stdout",
     "output_type": "stream",
     "text": [
      "The shape of training predictor: (95, 6) and target: (95,)\n"
     ]
    }
   ],
   "source": [
    "print('The shape of training predictor: {} and target: {}'.format(pred_train.shape, tar_train.shape))"
   ]
  },
  {
   "cell_type": "code",
   "execution_count": 258,
   "metadata": {},
   "outputs": [
    {
     "name": "stdout",
     "output_type": "stream",
     "text": [
      "The shape of test predictor: (64, 6) and target: (64,)\n"
     ]
    }
   ],
   "source": [
    "print('The shape of test predictor: {} and target: {}'.format(pred_test.shape, tar_test.shape))"
   ]
  },
  {
   "cell_type": "markdown",
   "metadata": {},
   "source": [
    "## Build adn fit  model RandomForestClassifier on training data"
   ]
  },
  {
   "cell_type": "code",
   "execution_count": 259,
   "metadata": {
    "collapsed": true
   },
   "outputs": [],
   "source": [
    "#n_estimators are the number of trees you would build with the random forest algorithm. \n",
    "rfc = RandomForestClassifier(n_estimators = 5).fit(pred_train,tar_train)"
   ]
  },
  {
   "cell_type": "markdown",
   "metadata": {},
   "source": [
    "## Make prediction on just trained Model"
   ]
  },
  {
   "cell_type": "code",
   "execution_count": 260,
   "metadata": {
    "collapsed": true
   },
   "outputs": [],
   "source": [
    "#Next we include the predict function where we predict for the test values \n",
    "predictions=rfc.predict(pred_test)"
   ]
  },
  {
   "cell_type": "code",
   "execution_count": 261,
   "metadata": {},
   "outputs": [],
   "source": [
    "#call in the confusion matrix function which we passed the target test\n",
    "con_matrix = confusion_matrix(tar_test,predictions)"
   ]
  },
  {
   "cell_type": "code",
   "execution_count": 262,
   "metadata": {},
   "outputs": [
    {
     "data": {
      "text/plain": [
       "array([[41,  4],\n",
       "       [ 4, 15]])"
      ]
     },
     "execution_count": 262,
     "metadata": {},
     "output_type": "execute_result"
    }
   ],
   "source": [
    "con_matrix"
   ]
  },
  {
   "cell_type": "code",
   "execution_count": 263,
   "metadata": {
    "collapsed": true
   },
   "outputs": [],
   "source": [
    "accuracy = accuracy_score(tar_test, predictions)"
   ]
  },
  {
   "cell_type": "code",
   "execution_count": 264,
   "metadata": {},
   "outputs": [
    {
     "data": {
      "text/plain": [
       "0.875"
      ]
     },
     "execution_count": 264,
     "metadata": {},
     "output_type": "execute_result"
    }
   ],
   "source": [
    "accuracy"
   ]
  },
  {
   "cell_type": "code",
   "execution_count": 265,
   "metadata": {},
   "outputs": [
    {
     "name": "stdout",
     "output_type": "stream",
     "text": [
      "[ 0.2375195   0.23695018  0.0764136   0.07331818  0.24032692  0.13547162]\n"
     ]
    }
   ],
   "source": [
    "# fit an Extra Trees model to the data\n",
    "etc = ExtraTreesClassifier()\n",
    "etc.fit(pred_train,tar_train)\n",
    "# display the relative importance of each attribute\n",
    "print(etc.feature_importances_)"
   ]
  },
  {
   "cell_type": "markdown",
   "metadata": {},
   "source": [
    "## Impact of tree size on prediction accuracy"
   ]
  },
  {
   "cell_type": "code",
   "execution_count": 287,
   "metadata": {
    "collapsed": true
   },
   "outputs": [],
   "source": [
    "#To determine what growing larger number of trees has brought us in terms of correct classification. \n",
    "#We’re going to use code that builds for us different numbers of trees, from one to 25, and provides the correct classification rate for each.\n",
    "trees = range(25)\n",
    "accuracy = np.zeros(25)"
   ]
  },
  {
   "cell_type": "code",
   "execution_count": 288,
   "metadata": {
    "collapsed": true
   },
   "outputs": [],
   "source": [
    "for idx in range(len(trees)):\n",
    "    rfc = RandomForestClassifier(n_estimators = idx + 1).fit(pred_train, tar_train)\n",
    "    predictions = rfc.predict(pred_test)\n",
    "    accuracy[idx] = accuracy_score(tar_test, predictions)"
   ]
  },
  {
   "cell_type": "code",
   "execution_count": 289,
   "metadata": {},
   "outputs": [
    {
     "data": {
      "image/png": "[encoded data removed]",
      "text/plain": [
       "<matplotlib.figure.Figure at 0x113231898>"
      ]
     },
     "metadata": {},
     "output_type": "display_data"
    }
   ],
   "source": [
    "plt.cla()\n",
    "plt.plot(trees,accuracy)\n",
    "plt.show()"
   ]
  },
  {
   "cell_type": "markdown",
   "metadata": {},
   "source": [
    "## Plot the feature importances of the forest"
   ]
  },
  {
   "cell_type": "code",
   "execution_count": 292,
   "metadata": {
    "collapsed": true
   },
   "outputs": [],
   "source": [
    "#standard deviations \n",
    "std = np.std([tree.feature_importances_ for tree in etc.estimators_],\n",
    "             axis=0)"
   ]
  },
  {
   "cell_type": "code",
   "execution_count": 293,
   "metadata": {},
   "outputs": [
    {
     "data": {
      "text/plain": [
       "array([ 0.1244575 ,  0.0716111 ,  0.03657124,  0.04123926,  0.14809768,\n",
       "        0.09925147])"
      ]
     },
     "execution_count": 293,
     "metadata": {},
     "output_type": "execute_result"
    }
   ],
   "source": [
    "std"
   ]
  },
  {
   "cell_type": "code",
   "execution_count": 294,
   "metadata": {},
   "outputs": [],
   "source": [
    "dictio = dict(zip(std, predictors))#dfpredict.columns))"
   ]
  },
  {
   "cell_type": "code",
   "execution_count": 295,
   "metadata": {},
   "outputs": [
    {
     "data": {
      "text/plain": [
       "{0.036571236193580117: 'co2emissions',\n",
       " 0.041239264907628415: 'femaleemployrate',\n",
       " 0.071611095346202761: 'alcconsumption',\n",
       " 0.099251472641344096: 'urbanrate',\n",
       " 0.12445749552260575: 'incomeperperson',\n",
       " 0.14809768298112358: 'lifeexpectancy'}"
      ]
     },
     "execution_count": 295,
     "metadata": {},
     "output_type": "execute_result"
    }
   ],
   "source": [
    "dictio"
   ]
  },
  {
   "cell_type": "code",
   "execution_count": 302,
   "metadata": {},
   "outputs": [
    {
     "name": "stdout",
     "output_type": "stream",
     "text": [
      "Feature ranking:\n",
      "0. feature lifeexpectancy (0.148098)\n",
      "1. feature incomeperperson (0.124457)\n",
      "2. feature urbanrate (0.099251)\n",
      "3. feature alcconsumption (0.071611)\n",
      "4. feature femaleemployrate (0.041239)\n",
      "5. feature co2emissions (0.036571)\n"
     ]
    }
   ],
   "source": [
    "indices = np.argsort(std)[::-1]\n",
    "\n",
    "# Print the feature ranking\n",
    "print(\"Feature ranking:\")\n",
    "for f in range(dfpredict.shape[1]):\n",
    "    print(\"%d. feature %s (%f)\" % (f , dictio[std[indices[f]]], std[indices[f]]))"
   ]
  },
  {
   "cell_type": "code",
   "execution_count": 314,
   "metadata": {},
   "outputs": [
    {
     "data": {
      "text/plain": [
       "array([4, 0, 5, 1, 3, 2])"
      ]
     },
     "execution_count": 314,
     "metadata": {},
     "output_type": "execute_result"
    }
   ],
   "source": [
    "indices"
   ]
  },
  {
   "cell_type": "code",
   "execution_count": 318,
   "metadata": {},
   "outputs": [
    {
     "data": {
      "image/png": "[encoded data removed]",
      "text/plain": [
       "<matplotlib.figure.Figure at 0x114258cc0>"
      ]
     },
     "metadata": {},
     "output_type": "display_data"
    }
   ],
   "source": [
    "# Plot the feature importances of the forest\n",
    "plt.figure()\n",
    "plt.title(\"Feature importances\")\n",
    "plt.bar(range(dfpredict.shape[1]), std[indices], color=\"r\", yerr=std[indices], align=\"center\")\n",
    "plt.xticks( range(dfpredict.shape[1]), dictio.values(), rotation='vertical')\n",
    "plt.xlim([-1, dfpredict.shape[1]])\n",
    "plt.show()"
   ]
  },
  {
   "cell_type": "markdown",
   "metadata": {},
   "source": [
    "## Data Analysis:"
   ]
  },
  {
   "cell_type": "markdown",
   "metadata": {},
   "source": [
    "In confusion matrix, we see the true negatives and true positives on the diagonal. The 4 and the 4 represent the false negatives and false positives, respectively. The accuracy of the random forest was 0.875, which means that roughly 88% of the countries were classified correctly, as having a moderate or a strong breast cancer incidence. \n",
    "Given that we don’t interpret individual trees in a random forest, the most helpful information to be gotten from a forest is arguably the measured importance for each explanatory variable. The explanatory variables with the highest relative importance scores were, as expected, life expectancy (with 0.148098…) and incomeperson (with 0.124457…).\n",
    "From the graph, it can be seen that the subsequent growing of multiple trees rather than a single tree, added considerably (approximately 5 p.p.) to the overall accuracy of the model, and suggesting that interpretation of a single decision tree may be inappropriate."
   ]
  }
 ],
 "metadata": {
  "kernelspec": {
   "display_name": "Python 3",
   "language": "python",
   "name": "python3"
  },
  "language_info": {
   "codemirror_mode": {
    "name": "ipython",
    "version": 3
   },
   "file_extension": ".py",
   "mimetype": "text/x-python",
   "name": "python",
   "nbconvert_exporter": "python",
   "pygments_lexer": "ipython3",
   "version": "3.6.1"
  }
 },
 "nbformat": 4,
 "nbformat_minor": 2
}
