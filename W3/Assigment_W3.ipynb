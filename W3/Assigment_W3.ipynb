{
 "cells": [
  {
   "cell_type": "markdown",
   "metadata": {},
   "source": [
    "# Lasso regression analysis - Assignment Week 3"
   ]
  },
  {
   "cell_type": "markdown",
   "metadata": {},
   "source": [
    "To do's: This week’s assignment involves running a lasso regression analysis. Lasso regression analysis is a shrinkage and variable selection method for linear regression models. The goal of lasso regression is to obtain the subset of predictors that minimizes prediction error for a quantitative response variable. The lasso does this by imposing a constraint on the model parameters that causes regression coefficients for some variables to shrink toward zero. Variables with a regression coefficient equal to zero after the shrinkage process are excluded from the model. Variables with non-zero regression coefficients variables are most strongly associated with the response variable. Explanatory variables can be either quantitative, categorical or both.\n",
    "\n",
    "Your assignment is to run a lasso regression analysis using k-fold cross validation to identify a subset of predictors from a larger pool of predictor variables that best predicts a quantitative response variable."
   ]
  },
  {
   "cell_type": "markdown",
   "metadata": {},
   "source": [
    "Lasso regression analysis performed with the Gapminder dataset is a shrinkage and variable selection method for linear regression models. The goal of lasso regression is to obtain the subset of predictors that minimizes prediction error for a quantitative response variable. The lasso does this by imposing a constraint on the model parameters that causes regression coefficients for some variables to shrink toward zero. Variables with a regression coefficient equal to zero after the shrinkage process are excluded from the model. Variables with non-zero regression coefficients variables are most strongly associated with the response variable. Explanatory variables can be either quantitative, categorical or both. "
   ]
  },
  {
   "cell_type": "code",
   "execution_count": 77,
   "metadata": {
    "collapsed": true
   },
   "outputs": [],
   "source": [
    "%matplotlib inline\n",
    "from pandas import Series, DataFrame\n",
    "import pandas as pd\n",
    "import numpy as np\n",
    "import matplotlib.pylab as plt\n",
    "from sklearn.model_selection import train_test_split"
   ]
  },
  {
   "cell_type": "code",
   "execution_count": 78,
   "metadata": {
    "collapsed": true
   },
   "outputs": [],
   "source": [
    "from sklearn import preprocessing\n",
    "from sklearn.metrics import mean_squared_error"
   ]
  },
  {
   "cell_type": "markdown",
   "metadata": {},
   "source": [
    "## Build model on training data\n"
   ]
  },
  {
   "cell_type": "code",
   "execution_count": 79,
   "metadata": {
    "collapsed": true
   },
   "outputs": [],
   "source": [
    "from sklearn.linear_model import LassoLarsCV"
   ]
  },
  {
   "cell_type": "markdown",
   "metadata": {},
   "source": [
    "## Data Management: Loading the GapMinder dataset "
   ]
  },
  {
   "cell_type": "code",
   "execution_count": 80,
   "metadata": {
    "collapsed": true
   },
   "outputs": [],
   "source": [
    "def primary_clean(df, nan_subset = []):\n",
    "    df = df.rename(columns=lambda x: x.strip()) #remove whitespaces from headers\n",
    "    #delete all column with just NaN\n",
    "    df = df.dropna(axis=1, how='all')\n",
    "    #drop duplicates\n",
    "    df = df.drop_duplicates()\n",
    "    #drop compliance = NaN\n",
    "    df = df.dropna(subset=nan_subset)\n",
    "    #convert to numeric our objects\n",
    "    df[nan_subset] = df[nan_subset].apply(pd.to_numeric, errors='coerce')\n",
    "    return df"
   ]
  },
  {
   "cell_type": "code",
   "execution_count": 81,
   "metadata": {
    "collapsed": true
   },
   "outputs": [],
   "source": [
    "dfgm = pd.read_csv('gapminder.csv')"
   ]
  },
  {
   "cell_type": "code",
   "execution_count": 82,
   "metadata": {},
   "outputs": [
    {
     "data": {
      "text/plain": [
       "country                 object\n",
       "incomeperperson         object\n",
       "alcconsumption          object\n",
       "armedforcesrate         object\n",
       "breastcancerper100th    object\n",
       "co2emissions            object\n",
       "femaleemployrate        object\n",
       "hivrate                 object\n",
       "internetuserate         object\n",
       "lifeexpectancy          object\n",
       "oilperperson            object\n",
       "polityscore             object\n",
       "relectricperperson      object\n",
       "suicideper100th         object\n",
       "employrate              object\n",
       "urbanrate               object\n",
       "dtype: object"
      ]
     },
     "execution_count": 82,
     "metadata": {},
     "output_type": "execute_result"
    }
   ],
   "source": [
    "dfgm.dtypes"
   ]
  },
  {
   "cell_type": "markdown",
   "metadata": {},
   "source": [
    "## Set my Features"
   ]
  },
  {
   "cell_type": "code",
   "execution_count": 83,
   "metadata": {
    "collapsed": true
   },
   "outputs": [],
   "source": [
    "#features to be convert to numeric\n",
    "predictors = ['alcconsumption', 'armedforcesrate',  'co2emissions', 'femaleemployrate',\n",
    "              'hivrate', 'lifeexpectancy', 'polityscore', 'suicideper100th', 'employrate', 'urbanrate']\n",
    "other = ['breastcancerper100th']"
   ]
  },
  {
   "cell_type": "code",
   "execution_count": 84,
   "metadata": {
    "collapsed": true
   },
   "outputs": [],
   "source": [
    "other.extend(predictors)\n",
    "dfgm = primary_clean(dfgm, other)"
   ]
  },
  {
   "cell_type": "code",
   "execution_count": 85,
   "metadata": {},
   "outputs": [
    {
     "data": {
      "text/plain": [
       "country                  object\n",
       "incomeperperson          object\n",
       "alcconsumption          float64\n",
       "armedforcesrate         float64\n",
       "breastcancerper100th    float64\n",
       "co2emissions            float64\n",
       "femaleemployrate        float64\n",
       "hivrate                 float64\n",
       "internetuserate          object\n",
       "lifeexpectancy          float64\n",
       "oilperperson             object\n",
       "polityscore             float64\n",
       "relectricperperson       object\n",
       "suicideper100th         float64\n",
       "employrate              float64\n",
       "urbanrate               float64\n",
       "dtype: object"
      ]
     },
     "execution_count": 85,
     "metadata": {},
     "output_type": "execute_result"
    }
   ],
   "source": [
    "dfgm.dtypes"
   ]
  },
  {
   "cell_type": "markdown",
   "metadata": {},
   "source": [
    "## Set Features Dataframe and Target"
   ]
  },
  {
   "cell_type": "code",
   "execution_count": 86,
   "metadata": {},
   "outputs": [],
   "source": [
    "dfpredict = dfgm_clean[predictors]\n",
    "targets = dfgm_clean.breastcancerper100th"
   ]
  },
  {
   "cell_type": "code",
   "execution_count": 87,
   "metadata": {},
   "outputs": [
    {
     "data": {
      "text/html": [
       "<div>\n",
       "<table border=\"1\" class=\"dataframe\">\n",
       "  <thead>\n",
       "    <tr style=\"text-align: right;\">\n",
       "      <th></th>\n",
       "      <th>country</th>\n",
       "      <th>incomeperperson</th>\n",
       "      <th>alcconsumption</th>\n",
       "      <th>armedforcesrate</th>\n",
       "      <th>breastcancerper100th</th>\n",
       "      <th>co2emissions</th>\n",
       "      <th>femaleemployrate</th>\n",
       "      <th>hivrate</th>\n",
       "      <th>internetuserate</th>\n",
       "      <th>lifeexpectancy</th>\n",
       "      <th>oilperperson</th>\n",
       "      <th>polityscore</th>\n",
       "      <th>relectricperperson</th>\n",
       "      <th>suicideper100th</th>\n",
       "      <th>employrate</th>\n",
       "      <th>urbanrate</th>\n",
       "    </tr>\n",
       "  </thead>\n",
       "  <tbody>\n",
       "    <tr>\n",
       "      <th>0</th>\n",
       "      <td>Afghanistan</td>\n",
       "      <td></td>\n",
       "      <td>0.03</td>\n",
       "      <td>0.569653</td>\n",
       "      <td>26.8</td>\n",
       "      <td>7.594400e+07</td>\n",
       "      <td>25.600000</td>\n",
       "      <td>NaN</td>\n",
       "      <td>3.65412162280064</td>\n",
       "      <td>48.673</td>\n",
       "      <td></td>\n",
       "      <td>0.0</td>\n",
       "      <td></td>\n",
       "      <td>6.684385</td>\n",
       "      <td>55.700001</td>\n",
       "      <td>24.04</td>\n",
       "    </tr>\n",
       "    <tr>\n",
       "      <th>1</th>\n",
       "      <td>Albania</td>\n",
       "      <td>1914.99655094922</td>\n",
       "      <td>7.29</td>\n",
       "      <td>1.024736</td>\n",
       "      <td>57.4</td>\n",
       "      <td>2.237473e+08</td>\n",
       "      <td>42.099998</td>\n",
       "      <td>NaN</td>\n",
       "      <td>44.9899469578783</td>\n",
       "      <td>76.918</td>\n",
       "      <td></td>\n",
       "      <td>9.0</td>\n",
       "      <td>636.341383366604</td>\n",
       "      <td>7.699330</td>\n",
       "      <td>51.400002</td>\n",
       "      <td>46.72</td>\n",
       "    </tr>\n",
       "    <tr>\n",
       "      <th>2</th>\n",
       "      <td>Algeria</td>\n",
       "      <td>2231.99333515006</td>\n",
       "      <td>0.69</td>\n",
       "      <td>2.306817</td>\n",
       "      <td>23.5</td>\n",
       "      <td>2.932109e+09</td>\n",
       "      <td>31.700001</td>\n",
       "      <td>0.1</td>\n",
       "      <td>12.5000733055148</td>\n",
       "      <td>73.131</td>\n",
       "      <td>.42009452521537</td>\n",
       "      <td>2.0</td>\n",
       "      <td>590.509814347428</td>\n",
       "      <td>4.848770</td>\n",
       "      <td>50.500000</td>\n",
       "      <td>65.22</td>\n",
       "    </tr>\n",
       "    <tr>\n",
       "      <th>3</th>\n",
       "      <td>Andorra</td>\n",
       "      <td>21943.3398976022</td>\n",
       "      <td>10.17</td>\n",
       "      <td>NaN</td>\n",
       "      <td>NaN</td>\n",
       "      <td>NaN</td>\n",
       "      <td>NaN</td>\n",
       "      <td>NaN</td>\n",
       "      <td>81</td>\n",
       "      <td>NaN</td>\n",
       "      <td></td>\n",
       "      <td>NaN</td>\n",
       "      <td></td>\n",
       "      <td>5.362179</td>\n",
       "      <td>NaN</td>\n",
       "      <td>88.92</td>\n",
       "    </tr>\n",
       "    <tr>\n",
       "      <th>4</th>\n",
       "      <td>Angola</td>\n",
       "      <td>1381.00426770244</td>\n",
       "      <td>5.57</td>\n",
       "      <td>1.461329</td>\n",
       "      <td>23.1</td>\n",
       "      <td>2.483580e+08</td>\n",
       "      <td>69.400002</td>\n",
       "      <td>2.0</td>\n",
       "      <td>9.99995388324075</td>\n",
       "      <td>51.093</td>\n",
       "      <td></td>\n",
       "      <td>-2.0</td>\n",
       "      <td>172.999227388199</td>\n",
       "      <td>14.554677</td>\n",
       "      <td>75.699997</td>\n",
       "      <td>56.70</td>\n",
       "    </tr>\n",
       "  </tbody>\n",
       "</table>\n",
       "</div>"
      ],
      "text/plain": [
       "       country   incomeperperson  alcconsumption  armedforcesrate  \\\n",
       "0  Afghanistan                              0.03         0.569653   \n",
       "1      Albania  1914.99655094922            7.29         1.024736   \n",
       "2      Algeria  2231.99333515006            0.69         2.306817   \n",
       "3      Andorra  21943.3398976022           10.17              NaN   \n",
       "4       Angola  1381.00426770244            5.57         1.461329   \n",
       "\n",
       "   breastcancerper100th  co2emissions  femaleemployrate  hivrate  \\\n",
       "0                  26.8  7.594400e+07         25.600000      NaN   \n",
       "1                  57.4  2.237473e+08         42.099998      NaN   \n",
       "2                  23.5  2.932109e+09         31.700001      0.1   \n",
       "3                   NaN           NaN               NaN      NaN   \n",
       "4                  23.1  2.483580e+08         69.400002      2.0   \n",
       "\n",
       "    internetuserate  lifeexpectancy     oilperperson  polityscore  \\\n",
       "0  3.65412162280064          48.673                           0.0   \n",
       "1  44.9899469578783          76.918                           9.0   \n",
       "2  12.5000733055148          73.131  .42009452521537          2.0   \n",
       "3                81             NaN                           NaN   \n",
       "4  9.99995388324075          51.093                          -2.0   \n",
       "\n",
       "  relectricperperson  suicideper100th  employrate  urbanrate  \n",
       "0                            6.684385   55.700001      24.04  \n",
       "1   636.341383366604         7.699330   51.400002      46.72  \n",
       "2   590.509814347428         4.848770   50.500000      65.22  \n",
       "3                            5.362179         NaN      88.92  \n",
       "4   172.999227388199        14.554677   75.699997      56.70  "
      ]
     },
     "execution_count": 87,
     "metadata": {},
     "output_type": "execute_result"
    }
   ],
   "source": [
    "scaler = preprocessing.StandardScaler()\n",
    "df_scaled = pd.DataFrame(scaler.fit_transform(dfpredict), columns=dfpredict.columns)\n",
    "df_scaled.describe()\n",
    "\n",
    "\n",
    "dfgm.head()"
   ]
  },
  {
   "cell_type": "code",
   "execution_count": 88,
   "metadata": {},
   "outputs": [
    {
     "data": {
      "text/html": [
       "<div>\n",
       "<table border=\"1\" class=\"dataframe\">\n",
       "  <thead>\n",
       "    <tr style=\"text-align: right;\">\n",
       "      <th></th>\n",
       "      <th>country</th>\n",
       "      <th>incomeperperson</th>\n",
       "      <th>alcconsumption</th>\n",
       "      <th>armedforcesrate</th>\n",
       "      <th>breastcancerper100th</th>\n",
       "      <th>co2emissions</th>\n",
       "      <th>femaleemployrate</th>\n",
       "      <th>hivrate</th>\n",
       "      <th>internetuserate</th>\n",
       "      <th>lifeexpectancy</th>\n",
       "      <th>oilperperson</th>\n",
       "      <th>polityscore</th>\n",
       "      <th>relectricperperson</th>\n",
       "      <th>suicideper100th</th>\n",
       "      <th>employrate</th>\n",
       "      <th>urbanrate</th>\n",
       "    </tr>\n",
       "  </thead>\n",
       "  <tbody>\n",
       "    <tr>\n",
       "      <th>2</th>\n",
       "      <td>Algeria</td>\n",
       "      <td>2231.99333515006</td>\n",
       "      <td>0.69</td>\n",
       "      <td>2.306817</td>\n",
       "      <td>23.5</td>\n",
       "      <td>2.932109e+09</td>\n",
       "      <td>31.700001</td>\n",
       "      <td>0.1</td>\n",
       "      <td>12.5000733055148</td>\n",
       "      <td>73.131</td>\n",
       "      <td>.42009452521537</td>\n",
       "      <td>2.0</td>\n",
       "      <td>590.509814347428</td>\n",
       "      <td>4.848770</td>\n",
       "      <td>50.500000</td>\n",
       "      <td>65.22</td>\n",
       "    </tr>\n",
       "    <tr>\n",
       "      <th>4</th>\n",
       "      <td>Angola</td>\n",
       "      <td>1381.00426770244</td>\n",
       "      <td>5.57</td>\n",
       "      <td>1.461329</td>\n",
       "      <td>23.1</td>\n",
       "      <td>2.483580e+08</td>\n",
       "      <td>69.400002</td>\n",
       "      <td>2.0</td>\n",
       "      <td>9.99995388324075</td>\n",
       "      <td>51.093</td>\n",
       "      <td></td>\n",
       "      <td>-2.0</td>\n",
       "      <td>172.999227388199</td>\n",
       "      <td>14.554677</td>\n",
       "      <td>75.699997</td>\n",
       "      <td>56.70</td>\n",
       "    </tr>\n",
       "    <tr>\n",
       "      <th>6</th>\n",
       "      <td>Argentina</td>\n",
       "      <td>10749.4192379463</td>\n",
       "      <td>9.35</td>\n",
       "      <td>0.560987</td>\n",
       "      <td>73.9</td>\n",
       "      <td>5.872119e+09</td>\n",
       "      <td>45.900002</td>\n",
       "      <td>0.5</td>\n",
       "      <td>36.0003349500148</td>\n",
       "      <td>75.901</td>\n",
       "      <td>.635943800978195</td>\n",
       "      <td>8.0</td>\n",
       "      <td>768.428299701347</td>\n",
       "      <td>7.765584</td>\n",
       "      <td>58.400002</td>\n",
       "      <td>92.00</td>\n",
       "    </tr>\n",
       "    <tr>\n",
       "      <th>7</th>\n",
       "      <td>Armenia</td>\n",
       "      <td>1326.74175718861</td>\n",
       "      <td>13.66</td>\n",
       "      <td>2.618438</td>\n",
       "      <td>51.6</td>\n",
       "      <td>5.121967e+07</td>\n",
       "      <td>34.200001</td>\n",
       "      <td>0.1</td>\n",
       "      <td>44.0010245795602</td>\n",
       "      <td>74.241</td>\n",
       "      <td></td>\n",
       "      <td>5.0</td>\n",
       "      <td>603.763057563433</td>\n",
       "      <td>3.741588</td>\n",
       "      <td>40.099998</td>\n",
       "      <td>63.86</td>\n",
       "    </tr>\n",
       "    <tr>\n",
       "      <th>9</th>\n",
       "      <td>Australia</td>\n",
       "      <td>25249.98606148</td>\n",
       "      <td>10.21</td>\n",
       "      <td>0.486280</td>\n",
       "      <td>83.2</td>\n",
       "      <td>1.297009e+10</td>\n",
       "      <td>54.599998</td>\n",
       "      <td>0.1</td>\n",
       "      <td>75.8956537961344</td>\n",
       "      <td>81.907</td>\n",
       "      <td>1.91302610912404</td>\n",
       "      <td>10.0</td>\n",
       "      <td>2825.39109539914</td>\n",
       "      <td>8.470030</td>\n",
       "      <td>61.500000</td>\n",
       "      <td>88.74</td>\n",
       "    </tr>\n",
       "  </tbody>\n",
       "</table>\n",
       "</div>"
      ],
      "text/plain": [
       "     country   incomeperperson  alcconsumption  armedforcesrate  \\\n",
       "2    Algeria  2231.99333515006            0.69         2.306817   \n",
       "4     Angola  1381.00426770244            5.57         1.461329   \n",
       "6  Argentina  10749.4192379463            9.35         0.560987   \n",
       "7    Armenia  1326.74175718861           13.66         2.618438   \n",
       "9  Australia    25249.98606148           10.21         0.486280   \n",
       "\n",
       "   breastcancerper100th  co2emissions  femaleemployrate  hivrate  \\\n",
       "2                  23.5  2.932109e+09         31.700001      0.1   \n",
       "4                  23.1  2.483580e+08         69.400002      2.0   \n",
       "6                  73.9  5.872119e+09         45.900002      0.5   \n",
       "7                  51.6  5.121967e+07         34.200001      0.1   \n",
       "9                  83.2  1.297009e+10         54.599998      0.1   \n",
       "\n",
       "    internetuserate  lifeexpectancy      oilperperson  polityscore  \\\n",
       "2  12.5000733055148          73.131   .42009452521537          2.0   \n",
       "4  9.99995388324075          51.093                           -2.0   \n",
       "6  36.0003349500148          75.901  .635943800978195          8.0   \n",
       "7  44.0010245795602          74.241                            5.0   \n",
       "9  75.8956537961344          81.907  1.91302610912404         10.0   \n",
       "\n",
       "  relectricperperson  suicideper100th  employrate  urbanrate  \n",
       "2   590.509814347428         4.848770   50.500000      65.22  \n",
       "4   172.999227388199        14.554677   75.699997      56.70  \n",
       "6   768.428299701347         7.765584   58.400002      92.00  \n",
       "7   603.763057563433         3.741588   40.099998      63.86  \n",
       "9   2825.39109539914         8.470030   61.500000      88.74  "
      ]
     },
     "execution_count": 88,
     "metadata": {},
     "output_type": "execute_result"
    }
   ],
   "source": [
    "#Because analyses cannot handle any NA’s in our data set, my next step is to create a clean \n",
    "#data frame that drops all NA’s. \n",
    "dfgm_clean = dfgm.dropna()\n",
    "dfgm_clean.head()"
   ]
  },
  {
   "cell_type": "code",
   "execution_count": 89,
   "metadata": {},
   "outputs": [
    {
     "name": "stdout",
     "output_type": "stream",
     "text": [
      "131 131\n"
     ]
    }
   ],
   "source": [
    "print(len(targets), len(dfgm_clean))"
   ]
  },
  {
   "cell_type": "markdown",
   "metadata": {},
   "source": [
    "## Set out training and test datasets"
   ]
  },
  {
   "cell_type": "code",
   "execution_count": 90,
   "metadata": {
    "collapsed": true
   },
   "outputs": [],
   "source": [
    "#set the size ratio to 60% for the training sample and 40% for the test sample by indicating test_size=.4\n",
    "pred_train, pred_test, tar_train, tar_test  =   train_test_split(dfpredict, targets, test_size=.4)"
   ]
  },
  {
   "cell_type": "code",
   "execution_count": 91,
   "metadata": {},
   "outputs": [
    {
     "name": "stdout",
     "output_type": "stream",
     "text": [
      "The shape of training predictor: (78, 10) and target: (78,)\n"
     ]
    }
   ],
   "source": [
    "print('The shape of training predictor: {} and target: {}'.format(pred_train.shape, tar_train.shape))"
   ]
  },
  {
   "cell_type": "code",
   "execution_count": 92,
   "metadata": {},
   "outputs": [
    {
     "name": "stdout",
     "output_type": "stream",
     "text": [
      "The shape of test predictor: (53, 10) and target: (53,)\n"
     ]
    }
   ],
   "source": [
    "print('The shape of test predictor: {} and target: {}'.format(pred_test.shape, tar_test.shape))"
   ]
  },
  {
   "cell_type": "markdown",
   "metadata": {},
   "source": [
    "## Build and fit  Lasso Regression Model on training data"
   ]
  },
  {
   "cell_type": "code",
   "execution_count": 113,
   "metadata": {},
   "outputs": [],
   "source": [
    "#specify the Lasso Regression Model\n",
    "import time\n",
    "t1 = time.time()\n",
    "llcv = LassoLarsCV(cv=20, precompute= False).fit(pred_train, tar_train)\n",
    "t_lasso_lars_cv = time.time() - t1"
   ]
  },
  {
   "cell_type": "code",
   "execution_count": 114,
   "metadata": {},
   "outputs": [],
   "source": [
    "# print variable names and regression coefficients\n",
    "dict_lr = dict(zip(dfpredict.columns, llcv.coef_))"
   ]
  },
  {
   "cell_type": "code",
   "execution_count": 115,
   "metadata": {},
   "outputs": [
    {
     "data": {
      "text/plain": [
       "{'alcconsumption': 0.80287191149055182,\n",
       " 'armedforcesrate': 0.0,\n",
       " 'co2emissions': 5.7770308728125949e-11,\n",
       " 'employrate': 0.0,\n",
       " 'femaleemployrate': 0.0,\n",
       " 'hivrate': 0.0,\n",
       " 'lifeexpectancy': 0.64808214423024557,\n",
       " 'polityscore': 0.65361606992208376,\n",
       " 'suicideper100th': 0.0,\n",
       " 'urbanrate': 0.31894597101193051}"
      ]
     },
     "execution_count": 115,
     "metadata": {},
     "output_type": "execute_result"
    }
   ],
   "source": [
    "dict_lr"
   ]
  },
  {
   "cell_type": "markdown",
   "metadata": {},
   "source": [
    "## Plot coefficient progression"
   ]
  },
  {
   "cell_type": "code",
   "execution_count": 116,
   "metadata": {},
   "outputs": [
    {
     "data": {
      "image/png": "[encoded data removed]",
      "text/plain": [
       "<matplotlib.figure.Figure at 0x11218cd30>"
      ]
     },
     "metadata": {},
     "output_type": "display_data"
    }
   ],
   "source": [
    "#plot coefficient progression\n",
    "m_log_alphas = -np.log10(llcv.alphas_)\n",
    "ax = plt.gca()\n",
    "plt.plot(m_log_alphas, llcv.coef_path_.T)\n",
    "plt.axvline(-np.log10(llcv.alpha_), linestyle='-', color = 'k', label = 'alpha CV')\n",
    "plt.ylabel('Regression Coefficients')\n",
    "plt.xlabel('-log(alpha)')\n",
    "plt.title('Mean square error on each fold: Lars (train time: %.2fs)' % t_lasso_lars_cv)\n",
    "plt.show()"
   ]
  },
  {
   "cell_type": "markdown",
   "metadata": {},
   "source": [
    "## Plot mean square error for each fold"
   ]
  },
  {
   "cell_type": "code",
   "execution_count": 117,
   "metadata": {},
   "outputs": [
    {
     "name": "stderr",
     "output_type": "stream",
     "text": [
      "/Users/dromescu/Library/Python/3.6/lib/python/site-packages/ipykernel_launcher.py:1: RuntimeWarning: divide by zero encountered in log10\n",
      "  \"\"\"Entry point for launching an IPython kernel.\n"
     ]
    },
    {
     "data": {
      "text/plain": [
       "<matplotlib.text.Text at 0x11241a128>"
      ]
     },
     "execution_count": 117,
     "metadata": {},
     "output_type": "execute_result"
    },
    {
     "data": {
      "image/png": "[encoded data removed]",
      "text/plain": [
       "<matplotlib.figure.Figure at 0x1123c1e80>"
      ]
     },
     "metadata": {},
     "output_type": "display_data"
    }
   ],
   "source": [
    "m_log_alphascv = -np.log10(llcv.cv_alphas_)\n",
    "plt.figure()\n",
    "plt.plot(m_log_alphascv, llcv.cv_mse_path_, ':')\n",
    "plt.plot(m_log_alphascv, llcv.cv_mse_path_.mean(axis=-1), 'k',\n",
    "         label='Average across the folds', linewidth=2)\n",
    "plt.axvline(-np.log10(llcv.alpha_), linestyle='--', color='k',\n",
    "            label='alpha CV')\n",
    "plt.legend()\n",
    "plt.xlabel('-log(alpha)')\n",
    "plt.ylabel('Mean squared error')\n",
    "plt.title('Mean squared error on each fold')"
   ]
  },
  {
   "cell_type": "markdown",
   "metadata": {
    "collapsed": true
   },
   "source": [
    "## MSE from training and test data"
   ]
  },
  {
   "cell_type": "code",
   "execution_count": 118,
   "metadata": {},
   "outputs": [
    {
     "name": "stdout",
     "output_type": "stream",
     "text": [
      "MSE Training error: 197.0003719153773 and Test error: 246.42009435058355\n"
     ]
    }
   ],
   "source": [
    "train_error = mean_squared_error(tar_train, llcv.predict(pred_train))\n",
    "test_error = mean_squared_error(tar_test, llcv.predict(pred_test))\n",
    "print('MSE Training error: {} and Test error: {}'.format(train_error, test_error))"
   ]
  },
  {
   "cell_type": "markdown",
   "metadata": {},
   "source": [
    "## R-square from training and test data"
   ]
  },
  {
   "cell_type": "code",
   "execution_count": 119,
   "metadata": {},
   "outputs": [
    {
     "name": "stdout",
     "output_type": "stream",
     "text": [
      "R-square Training error: 0.636211201906431 and Test error: 0.5642247988373419\n"
     ]
    }
   ],
   "source": [
    "rsquared_train=llcv.score(pred_train,tar_train)\n",
    "rsquared_test=llcv.score(pred_test,tar_test)\n",
    "\n",
    "print('R-square Training error: {} and Test error: {}'.format(rsquared_train, rsquared_test))"
   ]
  },
  {
   "cell_type": "markdown",
   "metadata": {},
   "source": [
    "## Data Analysis:"
   ]
  },
  {
   "cell_type": "markdown",
   "metadata": {},
   "source": [
    "Predictors with regression coefficients that do not have a value of zero are included in the selected model. Predictors with regression coefficients equal to zero means that the coefficients for those variables had shrunk to zero after applying the LASSO regression penalty, and were subsequently removed from the model. \n",
    "\n",
    "Python console results shows that of the 10 variables, 5 were selected in the final model.\n",
    "So we can also use the size of the regression coefficients to tell us which predictors are the strongest predictors of breast cancer incidence. For example, urban rate and alcohol consumption had the largest regression coefficients, and were most strongly associated with breast cancer incidence, followed by life expectancy and CO2 emissions.\n",
    "From the first plot we can see the relative importance of the predictor selected at any step of the selection process, how the regression coefficients changed with the addition of a new predictor at each step, as well as the steps at which each variable entered the model. \n",
    "The second plot shows the change in the mean square error for the change in the penalty parameter alpha at each step in the selection process.\n",
    "The R-square values were 0.64 and 0.56, indicating that the selected model explained 64% and 56% of the variance in breast cancer incidence for the training and test sets, respectively. "
   ]
  },
  {
   "cell_type": "code",
   "execution_count": null,
   "metadata": {
    "collapsed": true
   },
   "outputs": [],
   "source": []
  }
 ],
 "metadata": {
  "kernelspec": {
   "display_name": "Python 3",
   "language": "python",
   "name": "python3"
  },
  "language_info": {
   "codemirror_mode": {
    "name": "ipython",
    "version": 3
   },
   "file_extension": ".py",
   "mimetype": "text/x-python",
   "name": "python",
   "nbconvert_exporter": "python",
   "pygments_lexer": "ipython3",
   "version": "3.6.1"
  }
 },
 "nbformat": 4,
 "nbformat_minor": 2
}
